{
 "cells": [
  {
   "cell_type": "markdown",
   "metadata": {
    "collapsed": true
   },
   "source": [
    "# Loading CSV"
   ]
  },
  {
   "cell_type": "code",
   "execution_count": 1,
   "metadata": {},
   "outputs": [],
   "source": [
    "import pandas as pd"
   ]
  },
  {
   "cell_type": "code",
   "execution_count": 2,
   "metadata": {},
   "outputs": [
    {
     "name": "stdout",
     "output_type": "stream",
     "text": [
      " 01-intro_to_DS_toolkit_class.ipynb\t      10_tuplas_clean.ipynb\r\n",
      " 01-intro_to_DS_toolkit_clean.ipynb\t      11_exercises.ipynb\r\n",
      "'01_ ACCIDENTES POR TIPO EN  DISTRITOS.xls'   12_Dict_y_set_class.ipynb\r\n",
      " 01_intro_to_DS_toolkit_halfempty.ipynb       12_Dict_y_set_clean.ipynb\r\n",
      " 02-loading_and_saving_data_empty.ipynb       AccidentesBicicletas_2019.csv\r\n",
      " 03-merge_concatenate_transform_empty.ipynb   Exercises.ipynb\r\n",
      " 04-group_by_empty.ipynb\t\t      Finn.txt\r\n",
      " 05-visualization_introduction_empty.ipynb    FirstPlot.jpg\r\n",
      " 06_exercises-class.ipynb\t\t      Mult_matrix.xlsx\r\n",
      " 06_exercises-clean.ipynb\t\t      houses.csv\r\n",
      " 07_working_with_files-class.ipynb\t      newfile.txt\r\n",
      " 07_working_with_files-clean.ipynb\t      results.csv\r\n",
      " 08_09_Lists_class.ipynb\t\t      results.xls\r\n",
      " 08_09_Lists_clean.ipynb\t\t      train.csv\r\n",
      " 10_tuplas_class.ipynb\r\n"
     ]
    }
   ],
   "source": [
    "!ls"
   ]
  },
  {
   "cell_type": "code",
   "execution_count": 3,
   "metadata": {},
   "outputs": [
    {
     "name": "stdout",
     "output_type": "stream",
     "text": [
      "N�  EXPEDIENTE;FECHA;HORA;CALLE;N�MERO;DISTRITO;TIPO ACCIDENTE;ESTADO METEREOL�GICO;TIPO VEH�CULO;TIPO PERSONA;RANGO DE EDAD;SEXO;LESIVIDAD*\r",
      "\r\n",
      "2019S000659;01/01/2019;14:00;CALL. CASTELLO / CALL. DON RAMON DE LA CRUZ;-;SALAMANCA;Alcance;Despejado;Bicicleta;Conductor;DE 25 A 29 A�OS;Hombre;01\r",
      "\r\n",
      "2019S000036;02/01/2019;20:45;AVDA. GRAN VIA DE HORTALEZA / GTA. LUIS ROSALES;-;HORTALEZA;Colisi�n fronto-lateral;Despejado;Bicicleta;Conductor;DE 70 A 74 A�OS;Hombre;03\r",
      "\r\n",
      "2019S000133;03/01/2019;14:30;CALL. FELIPE ALVAREZ;10;VILLA DE VALLECAS;Alcance;Se desconoce;Bicicleta;Conductor;DE 15 A 17 A�OS;Hombre;07\r",
      "\r\n",
      "2019S000132;03/01/2019;12:45;AVDA. SANTA EUGENIA / CALL. REAL DE ARGANDA;-;VILLA DE VALLECAS;Alcance;Despejado;Bicicleta;Conductor;DE 18 A 20 A�OS;Hombre;07\r",
      "\r\n",
      "2019S000132;03/01/2019;12:45;AVDA. SANTA EUGENIA / CALL. REAL DE ARGANDA;-;VILLA DE VALLECAS;Alcance;Despejado;Bicicleta;Conductor;DE 21 A 24 A�OS;Hombre;14\r",
      "\r\n",
      "2019S000045;03/01/2019;10:30;CTRA. DEHESA DE LA VILLA;1;MONCLOA-ARAVACA;Ca�da;Despejado;Bicicleta;Conductor;DE 15 A 17 A�OS;Hombre;02\r",
      "\r\n",
      "2019S000306;04/01/2019;17:10;CALL. PRADILLO;26;CHAMART�N;Colisi�n fronto-lateral;Despejado;Bicicleta;Conductor;DE 30 A 34 A�OS;Hombre;07\r",
      "\r\n",
      "2019S000641;04/01/2019;13:35;CALL. CA�ON DEL RIO LOBOS; 7A;MORATALAZ;Colisi�n fronto-lateral;Despejado;Bicicleta;Conductor;DE 65 A 69 A�OS;Hombre;07\r",
      "\r\n",
      "2019S000904;07/01/2019;14:00;CALL. NUESTRA SE�ORA DE VALVERDE / CALL. DOCTOR JUAN BRAVO;-;FUENCARRAL-EL PARDO;Colisi�n fronto-lateral;Despejado;Bicicleta;Conductor;DE 30 A 34 A�OS;Hombre;07\r",
      "\r\n"
     ]
    }
   ],
   "source": [
    "!head AccidentesBicicletas_2019.csv"
   ]
  },
  {
   "cell_type": "code",
   "execution_count": 4,
   "metadata": {},
   "outputs": [],
   "source": [
    "df = pd.read_csv('./AccidentesBicicletas_2019.csv', encoding='latin1', sep=';')"
   ]
  },
  {
   "cell_type": "code",
   "execution_count": 5,
   "metadata": {},
   "outputs": [
    {
     "data": {
      "text/plain": [
       "pandas.core.frame.DataFrame"
      ]
     },
     "execution_count": 5,
     "metadata": {},
     "output_type": "execute_result"
    }
   ],
   "source": [
    "type(df)"
   ]
  },
  {
   "cell_type": "markdown",
   "metadata": {
    "collapsed": true
   },
   "source": [
    "# Saving to Excel"
   ]
  },
  {
   "cell_type": "code",
   "execution_count": 6,
   "metadata": {},
   "outputs": [],
   "source": [
    "df.to_excel('./results.xls')"
   ]
  },
  {
   "cell_type": "code",
   "execution_count": 7,
   "metadata": {},
   "outputs": [
    {
     "name": "stdout",
     "output_type": "stream",
     "text": [
      " 01-intro_to_DS_toolkit_class.ipynb\t      10_tuplas_clean.ipynb\r\n",
      " 01-intro_to_DS_toolkit_clean.ipynb\t      11_exercises.ipynb\r\n",
      "'01_ ACCIDENTES POR TIPO EN  DISTRITOS.xls'   12_Dict_y_set_class.ipynb\r\n",
      " 01_intro_to_DS_toolkit_halfempty.ipynb       12_Dict_y_set_clean.ipynb\r\n",
      " 02-loading_and_saving_data_empty.ipynb       AccidentesBicicletas_2019.csv\r\n",
      " 03-merge_concatenate_transform_empty.ipynb   Exercises.ipynb\r\n",
      " 04-group_by_empty.ipynb\t\t      Finn.txt\r\n",
      " 05-visualization_introduction_empty.ipynb    FirstPlot.jpg\r\n",
      " 06_exercises-class.ipynb\t\t      Mult_matrix.xlsx\r\n",
      " 06_exercises-clean.ipynb\t\t      houses.csv\r\n",
      " 07_working_with_files-class.ipynb\t      newfile.txt\r\n",
      " 07_working_with_files-clean.ipynb\t      results.csv\r\n",
      " 08_09_Lists_class.ipynb\t\t      results.xls\r\n",
      " 08_09_Lists_clean.ipynb\t\t      train.csv\r\n",
      " 10_tuplas_class.ipynb\r\n"
     ]
    }
   ],
   "source": [
    "!ls"
   ]
  },
  {
   "cell_type": "markdown",
   "metadata": {
    "collapsed": true
   },
   "source": [
    "# Saving to CSV"
   ]
  },
  {
   "cell_type": "code",
   "execution_count": 8,
   "metadata": {},
   "outputs": [],
   "source": [
    "df.to_csv('./results.csv',sep=\";\")"
   ]
  },
  {
   "cell_type": "code",
   "execution_count": 9,
   "metadata": {},
   "outputs": [],
   "source": [
    "df.to_csv('./results.csv',sep=\"^\")"
   ]
  },
  {
   "cell_type": "markdown",
   "metadata": {},
   "source": [
    "# Reading Excel"
   ]
  },
  {
   "cell_type": "code",
   "execution_count": 10,
   "metadata": {},
   "outputs": [
    {
     "name": "stdout",
     "output_type": "stream",
     "text": [
      "��\u0011ࡱ\u001a�\u0000\u0000\u0000\u0000\u0000\u0000\u0000\u0000\u0000\u0000\u0000\u0000\u0000\u0000\u0000\u0000>\u0000\u0003\u0000��\t\u0000\u0006\u0000\u0000\u0000\u0000\u0000\u0000\u0000\u0000\u0000\u0000\u0000\u0001\u0000\u0000\u0000w\u0000\u0000\u0000\u0000\u0000\u0000\u0000\u0000\u0010\u0000\u0000����\u0000\u0000\u0000\u0000����\u0000\u0000\u0000\u0000v\u0000\u0000\u0000������������������������������������������������������������������������������������������������������������������������������������������������������������������������������������������������������������������������������������������������������������������������������������������������������������������������������������������������������������������������������������������������������������������������������������������������\t\b\u0010\u0000\u0000\u0006\u0005\u0000g2�\u0007ɀ\u0001\u0000\u0006\u0006\u0000\u0000�\u0000\u0002\u0000�\u0004�\u0000\u0002\u0000\u0000\u0000�\u0000\u0000\u0000\\\u0000p\u0000\u0012\u0000\u0000JAIME BENITO VIVAR                                                                                           B\u0000\u0002\u0000�\u0004a\u0001\u0002\u0000\u0000\u0000�\u0001\u0000\u0000=\u0001\u0010\u0000\u0001\u0000\u0004\u0000\u0005\u0000\u0006\u0000\u0007\u0000\b\u0000\t\u0000\r\n",
      "\u0000�\u0000\u0002\u0000\u0011\u0000\u0019\u0000\u0002\u0000\u0000\u0000\u0012\u0000\u0002\u0000\u0000\u0000\u0013\u0000\u0002\u0000\u0000\u0000�\u0001\u0002\u0000\u0000\u0000�\u0001\u0002\u0000\u0000\u0000=\u0000\u0012\u0000�\u0000Z\u0000�-�#8\u0000\u0007\u0000\u0000\u0000\u0001\u0000X\u0002@\u0000\u0002\u0000\u0000\u0000�\u0000\u0002\u0000\u0000\u0000\"\u0000\u0002\u0000\u0000\u0000\u000e\u0000\u0002\u0000\u0001\u0000�\u0001\u0002\u0000\u0000\u0000�\u0000\u0002\u0000\u0000\u00001\u0000\u001a\u0000�\u0000\u0000\u0000��\u0001\u0000\u0000\u0000\u0000\u0000\u0000\u0005\u0001A\u0000r\u0000i\u0000a\u0000l\u00001\u0000\u001e",
      "\u0000�\u0000\u0000\u0000\b\u0000�\u0001\u0000\u0000\u0000\u0002\u0000\u0000\u0007\u0001C\u0000a\u0000l\u0000i\u0000b\u0000r\u0000i\u00001\u0000\u001e",
      "\u0000�\u0000\u0000\u0000\b\u0000�\u0001\u0000\u0000\u0000\u0002\u0000\u0000\u0007\u0001C\u0000a\u0000l\u0000i\u0000b\u0000r\u0000i\u00001\u0000\u001e",
      "\u0000�\u0000\u0000\u0000\b\u0000�\u0001\u0000\u0000\u0000\u0002\u0000\u0000\u0007\u0001C\u0000a\u0000l\u0000i\u0000b\u0000r\u0000i\u00001\u0000\u001a\u0000�\u0000\u0000\u0000��\u0001\u0000\u0000\u0000\u0002\u0000\u0000\u0005\u0001A\u0000r\u0000i\u0000a\u0000l\u00001\u0000\u001c",
      "\u0000h\u0001\u0000\u0000��\u0001\u0000\u0000\u0000\u0002\u0000\u0000\u0006\u0001T\u0000a\u0000h\u0000o\u0000m\u0000a\u00001\u0000\u001c",
      "\u0000�\u0000\u0000\u0000��\u0001\u0000\u0000\u0000\u0002\u0000\u0000\u0006\u0001T\u0000a\u0000h\u0000o\u0000m\u0000a\u00001\u0000\u001e",
      "\u0000�\u0000\u0001\u0000��\u0002\u0000\u0000\u0000\u0002\u0000\u0000\u0007\u0001V\u0000e\u0000r\u0000d\u0000a\u0000n\u0000a\u00001\u0000\u001e",
      "\u0000�\u0000\u0000\u0000��\u0001\u0000\u0000\u0000\u0002\u0000\u0000\u0007\u0001V\u0000e\u0000r\u0000d\u0000a\u0000n\u0000a\u00001\u0000\u001e",
      "\u0000�\u0000\u0000\u0000\b\u0000�\u0001\u0000\u0000\u0000\u0002\u0000\u0000\u0007\u0001C\u0000a\u0000l\u0000i\u0000b\u0000r\u0000i\u00001\u0000\u001e",
      "\u0000�\u0000\u0001\u0000\t\u0000�\u0002\u0000\u0000\u0000\u0002\u0000\u0000\u0007\u0001V\u0000e\u0000r\u0000d\u0000a\u0000n\u0000a\u00001\u0000\u001a\u0000�\u0000\u0000\u0000��\u0001\u0000\u0000\u0000\u0000\u0000\u0000\u0005\u0001A\u0000r\u0000i\u0000a\u0000l\u00001\u0000\u001e",
      "\u0000�\u0000\u0000\u0000\b\u0000�\u0001\u0000\u0000\u0000\u0002\u0000B\u0007\u0001C\u0000a\u0000l\u0000i\u0000b\u0000r\u0000i\u00001\u0000\u001e",
      "\u0000�\u0000\u0000\u0000\t\u0000�\u0001\u0000\u0000\u0000\u0002\u0000B\u0007\u0001C\u0000a\u0000l\u0000i\u0000b\u0000r\u0000i\u00001\u0000\u001e",
      "\u0000�\u0000\u0000\u0000\u0011\u0000�\u0001\u0000\u0000\u0000\u0002\u0000B\u0007\u0001C\u0000a\u0000l\u0000i\u0000b\u0000r\u0000i\u00001\u0000\u001e",
      "\u0000�\u0000\u0001\u00004\u0000�\u0002\u0000\u0000\u0000\u0002\u0000B\u0007\u0001C\u0000a\u0000l\u0000i\u0000b\u0000r\u0000i\u00001\u0000\u001e",
      "\u0000�\u0000\u0001\u0000\t\u0000�\u0002\u0000\u0000\u0000\u0002\u0000B\u0007\u0001C\u0000a\u0000l\u0000i\u0000b\u0000r\u0000i\u00001\u0000\u001e",
      "\u0000�\u0000\u0000\u00004\u0000�\u0001\u0000\u0000\u0000\u0002\u0000B\u0007\u0001C\u0000a\u0000l\u0000i\u0000b\u0000r\u0000i\u00001\u0000\u001e",
      "\u0000�\u0000\u0001\u00008\u0000�\u0002\u0000\u0000\u0000\u0002\u0000B\u0007\u0001C\u0000a\u0000l\u0000i\u0000b\u0000r\u0000i\u00001\u0000\u001e",
      "\u0000�\u0000\u0000\u0000>\u0000�\u0001\u0000\u0000\u0000\u0002\u0000B\u0007\u0001C\u0000a\u0000l\u0000i\u0000b\u0000r\u0000i\u00001\u0000\u001a\u0000�\u0000\u0004\u0000\f",
      "\u0000�\u0001\u0000\u0000\u0001\u0002\u0000B\u0005\u0001A\u0000r\u0000i\u0000a\u0000l\u00001\u0000\u001a\u0000�\u0000\u0004\u0000\u0014\u0000�\u0001\u0000\u0000\u0001\u0002\u0000B\u0005\u0001A\u0000r\u0000i\u0000a\u0000l\u00001\u0000\u001e",
      "\u0000�\u0000\u0000\u0000\u0014\u0000�\u0001\u0000\u0000\u0000\u0002\u0000B\u0007\u0001C\u0000a\u0000l\u0000i\u0000b\u0000r\u0000i\u00001\u0000\u001e",
      "\u0000�\u0000\u0000\u0000<\u0000�\u0001\u0000\u0000\u0000\u0002\u0000B\u0007\u0001C\u0000a\u0000l\u0000i\u0000b\u0000r\u0000i\u00001\u0000\u001e",
      "\u0000�\u0000\u0001\u0000?\u0000�\u0002\u0000\u0000\u0000\u0002\u0000B\u0007\u0001C\u0000a\u0000l\u0000i\u0000b\u0000r\u0000i\u00001\u0000\u001e",
      "\u0000�\u0000\u0000\u0000\r\n",
      "\u0000�\u0001\u0000\u0000\u0000\u0002\u0000B\u0007\u0001C\u0000a\u0000l\u0000i\u0000b\u0000r\u0000i\u00001\u0000\u001e",
      "\u0000�\u0000\u0002\u0000\u0017\u0000�\u0001\u0000\u0000\u0000\u0002\u0000B\u0007\u0001C\u0000a\u0000l\u0000i\u0000b\u0000r\u0000i\u00001\u0000\u001e",
      "\u0000h\u0001\u0001\u00008\u0000�\u0002\u0000\u0000\u0000\u0002\u0000B\u0007\u0001C\u0000a\u0000m\u0000b\u0000r\u0000i\u0000a\u00001\u0000\u001e",
      "\u0000,\u0001\u0001\u00008\u0000�\u0002\u0000\u0000\u0000\u0002\u0000B\u0007\u0001C\u0000a\u0000l\u0000i\u0000b\u0000r\u0000i\u00001\u0000\u001e",
      "\u0000\u0004\u0001\u0001\u00008\u0000�\u0002\u0000\u0000\u0000\u0002\u0000B\u0007\u0001C\u0000a\u0000l\u0000i\u0000b\u0000r\u0000i\u00001\u0000\u001e",
      "\u0000�\u0000\u0001\u0000\b\u0000�\u0002\u0000\u0000\u0000\u0002\u0000B\u0007\u0001C\u0000a\u0000l\u0000i\u0000b\u0000r\u0000i\u00001\u0000\u001e",
      "\u0000�\u0000\u0001\u0000\t\u0000�\u0002\u0000\u0000\u0000\u0002\u0000B\u0007\u0001V\u0000e\u0000r\u0000d\u0000a\u0000n\u0000a\u0000\u001e",
      "\u00043\u0000\u0005\u0000\u0017\u0000\u0001#\u0000,\u0000#\u0000#\u00000\u0000\\\u0000 \u0000\"\u0000� \"\u0000;\u0000\\\u0000-\u0000#\u0000,\u0000#\u0000#\u00000\u0000\\\u0000 \u0000\"\u0000� \"\u0000\u001e",
      "\u0004=\u0000\u0006\u0000\u001c",
      "\u0000\u0001#\u0000,\u0000#\u0000#\u00000\u0000\\\u0000 \u0000\"\u0000� \"\u0000;\u0000[\u0000R\u0000e\u0000d\u0000]\u0000\\\u0000-\u0000#\u0000,\u0000#\u0000#\u00000\u0000\\\u0000 \u0000\"\u0000� \"\u0000\u001e",
      "\u0004?\u0000\u0007\u0000\u001d",
      "\u0000\u0001#\u0000,\u0000#\u0000#\u00000\u0000.\u00000\u00000\u0000\\\u0000 \u0000\"\u0000� \"\u0000;\u0000\\\u0000-\u0000#\u0000,\u0000#\u0000#\u00000\u0000.\u00000\u00000\u0000\\\u0000 \u0000\"\u0000� \"\u0000\u001e",
      "\u0004I\u0000\b\u0000\"\u0000\u0001#\u0000,\u0000#\u0000#\u00000\u0000.\u00000\u00000\u0000\\\u0000 \u0000\"\u0000� \"\u0000;\u0000[\u0000R\u0000e\u0000d\u0000]\u0000\\\u0000-\u0000#\u0000,\u0000#\u0000#\u00000\u0000.\u00000\u00000\u0000\\\u0000 \u0000\"\u0000� \"\u0000\u001e",
      "\u0004q\u0000*\u00006\u0000\u0001_\u0000-\u0000*\u0000 \u0000#\u0000,\u0000#\u0000#\u00000\u0000\\\u0000 \u0000\"\u0000� \"\u0000_\u0000-\u0000;\u0000\\\u0000-\u0000*\u0000 \u0000#\u0000,\u0000#\u0000#\u00000\u0000\\\u0000 \u0000\"\u0000� \"\u0000_\u0000-\u0000;\u0000_\u0000-\u0000*\u0000 \u0000\"\u0000-\u0000\"\u0000\\\u0000 \u0000\"\u0000� \"\u0000_\u0000-\u0000;\u0000_\u0000-\u0000@\u0000_\u0000-\u0000\u001e",
      "\u0004k\u0000)\u00003\u0000\u0001_\u0000-\u0000*\u0000 \u0000#\u0000,\u0000#\u0000#\u00000\u0000\\\u0000 \u0000_\u0000� _\u0000-\u0000;\u0000\\\u0000-\u0000*\u0000 \u0000#\u0000,\u0000#\u0000#\u00000\u0000\\\u0000 \u0000_\u0000� _\u0000-\u0000;\u0000_\u0000-\u0000*\u0000 \u0000\"\u0000-\u0000\"\u0000\\\u0000 \u0000_\u0000� _\u0000-\u0000;\u0000_\u0000-\u0000@\u0000_\u0000-\u0000\u001e",
      "\u0004�\u0000,\u0000>\u0000\u0001_\u0000-\u0000*\u0000 \u0000#\u0000,\u0000#\u0000#\u00000\u0000.\u00000\u00000\u0000\\\u0000 \u0000\"\u0000� \"\u0000_\u0000-\u0000;\u0000\\\u0000-\u0000*\u0000 \u0000#\u0000,\u0000#\u0000#\u00000\u0000.\u00000\u00000\u0000\\\u0000 \u0000\"\u0000� \"\u0000_\u0000-\u0000;\u0000_\u0000-\u0000*\u0000 \u0000\"\u0000-\u0000\"\u0000?\u0000?\u0000\\\u0000 \u0000\"\u0000� \"\u0000_\u0000-\u0000;\u0000_\u0000-\u0000@\u0000_\u0000-\u0000\u001e",
      "\u0004{\u0000+\u0000;\u0000\u0001_\u0000-\u0000*\u0000 \u0000#\u0000,\u0000#\u0000#\u00000\u0000.\u00000\u00000\u0000\\\u0000 \u0000_\u0000� _\u0000-\u0000;\u0000\\\u0000-\u0000*\u0000 \u0000#\u0000,\u0000#\u0000#\u00000\u0000.\u00000\u00000\u0000\\\u0000 \u0000_\u0000� _\u0000-\u0000;\u0000_\u0000-\u0000*\u0000 \u0000\"\u0000-\u0000\"\u0000?\u0000?\u0000\\\u0000 \u0000_\u0000� _\u0000-\u0000;\u0000_\u0000-\u0000@\u0000_\u0000-\u0000\u001e",
      "\u0004\u0013\u0000�\u0000\u000e\u0000\u0000\"S�\";\"S�\";\"No\"\u001e",
      "\u0004$\u0000�\u0000\u001f\u0000\u0000\"Verdadero\";\"Verdadero\";\"Falso\"\u001e",
      "\u0004(\u0000�\u0000#\u0000\u0000\"Activado\";\"Activado\";\"Desactivado\"\u001e",
      "\u0004]\u0000�\u0000,\u0000\u0001[\u0000$\u0000� -\u00002\u0000]\u0000\\\u0000 \u0000#\u0000,\u0000#\u0000#\u00000\u0000.\u00000\u00000\u0000_\u0000)\u0000;\u0000[\u0000R\u0000e\u0000d\u0000]\u0000\\\u0000(\u0000[\u0000$\u0000� -\u00002\u0000]\u0000\\\u0000 \u0000#\u0000,\u0000#\u0000#\u00000\u0000.\u00000\u00000\u0000\\\u0000)\u0000\u001e",
      "\u0004\u0014\u0000�\u0000\u000f\u0000\u0000#,##0;\\(#,##0\\)�\u0000\u0014\u0000\u0000\u0000\u0000\u0000�� \u0000\u0000\u0000\u0000\u0000\u0000\u0000\u0000\u0000\u0000\u0000� �\u0000\u0014\u0000\r\n",
      "\u0000\u0000\u0000�� \u0000\u0000�\u0000\u0000\u0000\u0000\u0000\u0000\u0000\u0000� �\u0000\u0014\u0000\r\n",
      "\u0000\u0000\u0000�� \u0000\u0000�\u0000\u0000\u0000\u0000\u0000\u0000\u0000\u0000� �\u0000\u0014\u0000\r\n",
      "\u0000\u0000\u0000�� \u0000\u0000�\u0000\u0000\u0000\u0000\u0000\u0000\u0000\u0000� �\u0000\u0014\u0000\r\n",
      "\u0000\u0000\u0000�� \u0000\u0000�\u0000\u0000\u0000\u0000\u0000\u0000\u0000\u0000� �\u0000\u0014\u0000\u0000\u0000\u0000\u0000�� \u0000\u0000�\u0000\u0000\u0000\u0000\u0000\u0000\u0000\u0000� �\u0000\u0014\u0000\u0000\u0000\u0000\u0000�� \u0000\u0000�\u0000\u0000\u0000\u0000\u0000\u0000\u0000\u0000� �\u0000\u0014\u0000\u0000\u0000\u0000\u0000�� \u0000\u0000�\u0000\u0000\u0000\u0000\u0000\u0000\u0000\u0000� �\u0000\u0014\u0000\u0000\u0000\u0000\u0000�� \u0000\u0000�\u0000\u0000\u0000\u0000\u0000\u0000\u0000\u0000� �\u0000\u0014\u0000\u0000\u0000\u0000\u0000�� \u0000\u0000�\u0000\u0000\u0000\u0000\u0000\u0000\u0000\u0000� �\u0000\u0014\u0000\u0000\u0000\u0000\u0000�� \u0000\u0000�\u0000\u0000\u0000\u0000\u0000\u0000\u0000\u0000� �\u0000\u0014\u0000\u0000\u0000\u0000\u0000�� \u0000\u0000�\u0000\u0000\u0000\u0000\u0000\u0000\u0000\u0000� �\u0000\u0014\u0000\u0000\u0000\u0000\u0000�� \u0000\u0000�\u0000\u0000\u0000\u0000\u0000\u0000\u0000\u0000� �\u0000\u0014\u0000\u0000\u0000\u0000\u0000�� \u0000\u0000�\u0000\u0000\u0000\u0000\u0000\u0000\u0000\u0000� �\u0000\u0014\u0000\u0000\u0000\u0000\u0000�� \u0000\u0000�\u0000\u0000\u0000\u0000\u0000\u0000\u0000\u0000� �\u0000\u0014\u0000\u0005\u0000\u0000\u0000\u0001\u0000 \u0000\u0000\b\u0000\u0000\u0000\u0000\u0000\u0000\u0000\u0000� �\u0000\u0014\u0000\r",
      "\u0000\u0000\u0000�� \u0000\u0000�\u0000\u0000\u0000\u0000\u0000\u0000\u0000\u0004� �\u0000\u0014\u0000\r",
      "\u0000\u0000\u0000�� \u0000\u0000�\u0000\u0000\u0000\u0000\u0000\u0000\u0000\u0004� �\u0000\u0014\u0000\r",
      "\u0000\u0000\u0000�� \u0000\u0000�\u0000\u0000\u0000\u0000\u0000\u0000\u0000\u0004� �\u0000\u0014\u0000\r",
      "\u0000\u0000\u0000�� \u0000\u0000�\u0000\u0000\u0000\u0000\u0000\u0000\u0000\u0004� �\u0000\u0014\u0000\r",
      "\u0000\u0000\u0000�� \u0000\u0000�\u0000\u0000\u0000\u0000\u0000\u0000\u0000\u0004� �\u0000\u0014\u0000\r",
      "\u0000\u0000\u0000�� \u0000\u0000�\u0000\u0000\u0000\u0000\u0000\u0000\u0000\u0004� �\u0000\u0014\u0000\r",
      "\u0000\u0000\u0000�� \u0000\u0000�\u0000\u0000\u0000\u0000\u0000\u0000\u0000\u0004� �\u0000\u0014\u0000\r",
      "\u0000\u0000\u0000�� \u0000\u0000�\u0000\u0000\u0000\u0000\u0000\u0000\u0000\u0004� �\u0000\u0014\u0000\r",
      "\u0000\u0000\u0000�� \u0000\u0000�\u0000\u0000\u0000\u0000\u0000\u0000\u0000\u0004� �\u0000\u0014\u0000\r",
      "\u0000\u0000\u0000�� \u0000\u0000�\u0000\u0000\u0000\u0000\u0000\u0000\u0000\u0004� �\u0000\u0014\u0000\r",
      "\u0000\u0000\u0000�� \u0000\u0000�\u0000\u0000\u0000\u0000\u0000\u0000\u0000\u0004� �\u0000\u0014\u0000\r",
      "\u0000\u0000\u0000�� \u0000\u0000�\u0000\u0000\u0000\u0000\u0000\u0000\u0000\u0004� �\u0000\u0014\u0000\u000e\u0000\u0000\u0000�� \u0000\u0000�\u0000\u0000\u0000\u0000\u0000\u0000\u0000\u0004� �\u0000\u0014\u0000\u000e\u0000\u0000\u0000�� \u0000\u0000�\u0000\u0000\u0000\u0000\u0000\u0000\u0000\u0004� �\u0000\u0014\u0000\u000e\u0000\u0000\u0000�� \u0000\u0000�\u0000\u0000\u0000\u0000\u0000\u0000\u0000\u0004� �\u0000\u0014\u0000\u000e\u0000\u0000\u0000�� \u0000\u0000�\u0000\u0000\u0000\u0000\u0000\u0000\u0000\u0004� �\u0000\u0014\u0000\u000e\u0000\u0000\u0000�� \u0000\u0000�\u0000\u0000\u0000\u0000\u0000\u0000\u0000\u0004� �\u0000\u0014\u0000\u000e\u0000\u0000\u0000�� \u0000\u0000�\u0000\u0000\u0000\u0000\u0000\u0000\u0000\u0004� �\u0000\u0014\u0000\u000f\u0000\u0000\u0000�� \u0000\u0000�\u0000\u0000\u0000\u0000\u0000\u0000\u0000\u0004� �\u0000\u0014\u0000\u0010\u0000\u0000\u0000�� \u0000\u0000�\u0011\u0011�\u000b",
      "�\u000b",
      "\u0000\u0004� �\u0000\u0014\u0000\u0011\u0000\u0000\u0000�� \u0000\u0000�ff�\u001f�\u001f\u0000\u0004� �\u0000\u0014\u0000\u0012\u0000\u0000\u0000�� \u0000\u0000�\u0000`\u0000\u0000\u0000\u001a\u0000\u0000� �\u0000\u0014\u0000\u0013\u0000\u0000\u0000�� \u0000\u0000�\u0000\u0000\u0000\u0000\u0000\u0000\u0000\u0000� �\u0000\u0014\u0000\u000e\u0000\u0000\u0000�� \u0000\u0000�\u0000\u0000\u0000\u0000\u0000\u0000\u0000\u0004� �\u0000\u0014\u0000\u000e\u0000\u0000\u0000�� \u0000\u0000�\u0000\u0000\u0000\u0000\u0000\u0000\u0000\u0004� �\u0000\u0014\u0000\u000e\u0000\u0000\u0000�� \u0000\u0000�\u0000\u0000\u0000\u0000\u0000\u0000\u0000\u0004� �\u0000\u0014\u0000\u000e\u0000\u0000\u0000�� \u0000\u0000�\u0000\u0000\u0000\u0000\u0000\u0000\u0000\u0004� �\u0000\u0014\u0000\u000e\u0000\u0000\u0000�� \u0000\u0000�\u0000\u0000\u0000\u0000\u0000\u0000\u0000\u0004� �\u0000\u0014\u0000\u000e\u0000\u0000\u0000�� \u0000\u0000�\u0000\u0000\u0000\u0000\u0000\u0000\u0000\u0004� �\u0000\u0014\u0000\u0014\u0000\u0000\u0000�� \u0000\u0000�\u0011\u0011�\u000b",
      "�\u000b",
      "\u0000\u0004� �\u0000\u0014\u0000\u0015\u0000\u0000\u0000�� \u0000\u0000�\u0000\u0000\u0000\u0000\u0000\u0000\u0000\u0000� �\u0000\u0014\u0000\u0016\u0000\u0000\u0000�� \u0000\u0000�\u0000\u0000\u0000\u0000\u0000\u0000\u0000\u0000� �\u0000\u0014\u0000\u0017\u0000\u0000\u0000�� \u0000\u0000�\u0000\u0000\u0000\u0000\u0000\u0000\u0000\u0004� �\u0000\u0014\u0000\r\n",
      "\u0000+\u0000�� \u0000\u0000�\u0000\u0000\u0000\u0000\u0000\u0000\u0000\u0000� �\u0000\u0014\u0000\r\n",
      "\u0000)\u0000�� \u0000\u0000�\u0000\u0000\u0000\u0000\u0000\u0000\u0000\u0000� �\u0000\u0014\u0000\r\n",
      "\u0000,\u0000�� \u0000\u0000�\u0000\u0000\u0000\u0000\u0000\u0000\u0000\u0000� �\u0000\u0014\u0000\r\n"
     ]
    }
   ],
   "source": [
    "!head '01_ ACCIDENTES POR TIPO EN  DISTRITOS.xls'"
   ]
  },
  {
   "cell_type": "markdown",
   "metadata": {},
   "source": [
    "#### Exercise\n",
    "\n",
    "Consolidate the excel into one DataFrame: you will need to create a 'YEAR' column. Think how you can iterate through all the DataFrames. Think also where you can take the value of 'YEAR' from."
   ]
  },
  {
   "cell_type": "code",
   "execution_count": null,
   "metadata": {},
   "outputs": [],
   "source": []
  },
  {
   "cell_type": "markdown",
   "metadata": {},
   "source": [
    "REVISAR!!!"
   ]
  },
  {
   "cell_type": "markdown",
   "metadata": {
    "collapsed": true
   },
   "source": [
    "# To Sql Database"
   ]
  },
  {
   "cell_type": "code",
   "execution_count": 11,
   "metadata": {},
   "outputs": [],
   "source": [
    "import sqlite3\n",
    "connection = sqlite3.connect('newdb.db')"
   ]
  },
  {
   "cell_type": "code",
   "execution_count": 12,
   "metadata": {},
   "outputs": [
    {
     "name": "stderr",
     "output_type": "stream",
     "text": [
      "/home/matozqui/anaconda3/lib/python3.7/site-packages/pandas/core/generic.py:2712: UserWarning: The spaces in these column names will not be changed. In pandas versions < 0.14, spaces were converted to underscores.\n",
      "  method=method,\n"
     ]
    }
   ],
   "source": [
    "df.to_sql('mynewtable',con=connection,if_exists='replace')"
   ]
  },
  {
   "cell_type": "markdown",
   "metadata": {
    "collapsed": true
   },
   "source": [
    "# To dictionary and to json"
   ]
  },
  {
   "cell_type": "code",
   "execution_count": 13,
   "metadata": {},
   "outputs": [
    {
     "data": {
      "text/plain": [
       "{'Nº  EXPEDIENTE': {0: '2019S000659',\n",
       "  1: '2019S000036',\n",
       "  2: '2019S000133',\n",
       "  3: '2019S000132',\n",
       "  4: '2019S000132'},\n",
       " 'FECHA': {0: '01/01/2019',\n",
       "  1: '02/01/2019',\n",
       "  2: '03/01/2019',\n",
       "  3: '03/01/2019',\n",
       "  4: '03/01/2019'},\n",
       " 'HORA': {0: '14:00', 1: '20:45', 2: '14:30', 3: '12:45', 4: '12:45'},\n",
       " 'CALLE': {0: 'CALL. CASTELLO / CALL. DON RAMON DE LA CRUZ',\n",
       "  1: 'AVDA. GRAN VIA DE HORTALEZA / GTA. LUIS ROSALES',\n",
       "  2: 'CALL. FELIPE ALVAREZ',\n",
       "  3: 'AVDA. SANTA EUGENIA / CALL. REAL DE ARGANDA',\n",
       "  4: 'AVDA. SANTA EUGENIA / CALL. REAL DE ARGANDA'},\n",
       " 'NÚMERO': {0: '-', 1: '-', 2: '10', 3: '-', 4: '-'},\n",
       " 'DISTRITO': {0: 'SALAMANCA',\n",
       "  1: 'HORTALEZA',\n",
       "  2: 'VILLA DE VALLECAS',\n",
       "  3: 'VILLA DE VALLECAS',\n",
       "  4: 'VILLA DE VALLECAS'},\n",
       " 'TIPO ACCIDENTE': {0: 'Alcance',\n",
       "  1: 'Colisión fronto-lateral',\n",
       "  2: 'Alcance',\n",
       "  3: 'Alcance',\n",
       "  4: 'Alcance'},\n",
       " 'ESTADO METEREOLÓGICO': {0: 'Despejado',\n",
       "  1: 'Despejado',\n",
       "  2: 'Se desconoce',\n",
       "  3: 'Despejado',\n",
       "  4: 'Despejado'},\n",
       " 'TIPO VEHÍCULO': {0: 'Bicicleta',\n",
       "  1: 'Bicicleta',\n",
       "  2: 'Bicicleta',\n",
       "  3: 'Bicicleta',\n",
       "  4: 'Bicicleta'},\n",
       " 'TIPO PERSONA': {0: 'Conductor',\n",
       "  1: 'Conductor',\n",
       "  2: 'Conductor',\n",
       "  3: 'Conductor',\n",
       "  4: 'Conductor'},\n",
       " 'RANGO DE EDAD': {0: 'DE 25 A 29 AÑOS',\n",
       "  1: 'DE 70 A 74 AÑOS',\n",
       "  2: 'DE 15 A 17 AÑOS',\n",
       "  3: 'DE 18 A 20 AÑOS',\n",
       "  4: 'DE 21 A 24 AÑOS'},\n",
       " 'SEXO': {0: 'Hombre', 1: 'Hombre', 2: 'Hombre', 3: 'Hombre', 4: 'Hombre'},\n",
       " 'LESIVIDAD*': {0: 1.0, 1: 3.0, 2: 7.0, 3: 7.0, 4: 14.0}}"
      ]
     },
     "execution_count": 13,
     "metadata": {},
     "output_type": "execute_result"
    }
   ],
   "source": [
    "df.head().to_dict()"
   ]
  },
  {
   "cell_type": "code",
   "execution_count": 14,
   "metadata": {},
   "outputs": [
    {
     "data": {
      "text/plain": [
       "'{\"N\\\\u00ba  EXPEDIENTE\":{\"0\":\"2019S000659\",\"1\":\"2019S000036\",\"2\":\"2019S000133\",\"3\":\"2019S000132\",\"4\":\"2019S000132\"},\"FECHA\":{\"0\":\"01\\\\/01\\\\/2019\",\"1\":\"02\\\\/01\\\\/2019\",\"2\":\"03\\\\/01\\\\/2019\",\"3\":\"03\\\\/01\\\\/2019\",\"4\":\"03\\\\/01\\\\/2019\"},\"HORA\":{\"0\":\"14:00\",\"1\":\"20:45\",\"2\":\"14:30\",\"3\":\"12:45\",\"4\":\"12:45\"},\"CALLE\":{\"0\":\"CALL. CASTELLO \\\\/ CALL. DON RAMON DE LA CRUZ\",\"1\":\"AVDA. GRAN VIA DE HORTALEZA \\\\/ GTA. LUIS ROSALES\",\"2\":\"CALL. FELIPE ALVAREZ\",\"3\":\"AVDA. SANTA EUGENIA \\\\/ CALL. REAL DE ARGANDA\",\"4\":\"AVDA. SANTA EUGENIA \\\\/ CALL. REAL DE ARGANDA\"},\"N\\\\u00daMERO\":{\"0\":\"-\",\"1\":\"-\",\"2\":\"10\",\"3\":\"-\",\"4\":\"-\"},\"DISTRITO\":{\"0\":\"SALAMANCA\",\"1\":\"HORTALEZA\",\"2\":\"VILLA DE VALLECAS\",\"3\":\"VILLA DE VALLECAS\",\"4\":\"VILLA DE VALLECAS\"},\"TIPO ACCIDENTE\":{\"0\":\"Alcance\",\"1\":\"Colisi\\\\u00f3n fronto-lateral\",\"2\":\"Alcance\",\"3\":\"Alcance\",\"4\":\"Alcance\"},\"ESTADO METEREOL\\\\u00d3GICO\":{\"0\":\"Despejado\",\"1\":\"Despejado\",\"2\":\"Se desconoce\",\"3\":\"Despejado\",\"4\":\"Despejado\"},\"TIPO VEH\\\\u00cdCULO\":{\"0\":\"Bicicleta\",\"1\":\"Bicicleta\",\"2\":\"Bicicleta\",\"3\":\"Bicicleta\",\"4\":\"Bicicleta\"},\"TIPO PERSONA\":{\"0\":\"Conductor\",\"1\":\"Conductor\",\"2\":\"Conductor\",\"3\":\"Conductor\",\"4\":\"Conductor\"},\"RANGO DE EDAD\":{\"0\":\"DE 25 A 29 A\\\\u00d1OS\",\"1\":\"DE 70 A 74 A\\\\u00d1OS\",\"2\":\"DE 15 A 17 A\\\\u00d1OS\",\"3\":\"DE 18 A 20 A\\\\u00d1OS\",\"4\":\"DE 21 A 24 A\\\\u00d1OS\"},\"SEXO\":{\"0\":\"Hombre\",\"1\":\"Hombre\",\"2\":\"Hombre\",\"3\":\"Hombre\",\"4\":\"Hombre\"},\"LESIVIDAD*\":{\"0\":1.0,\"1\":3.0,\"2\":7.0,\"3\":7.0,\"4\":14.0}}'"
      ]
     },
     "execution_count": 14,
     "metadata": {},
     "output_type": "execute_result"
    }
   ],
   "source": [
    "df.head().to_json()"
   ]
  },
  {
   "cell_type": "markdown",
   "metadata": {
    "collapsed": true
   },
   "source": [
    "# Reading mysql database"
   ]
  },
  {
   "cell_type": "code",
   "execution_count": 17,
   "metadata": {},
   "outputs": [
    {
     "data": {
      "text/html": [
       "<div>\n",
       "<style scoped>\n",
       "    .dataframe tbody tr th:only-of-type {\n",
       "        vertical-align: middle;\n",
       "    }\n",
       "\n",
       "    .dataframe tbody tr th {\n",
       "        vertical-align: top;\n",
       "    }\n",
       "\n",
       "    .dataframe thead th {\n",
       "        text-align: right;\n",
       "    }\n",
       "</style>\n",
       "<table border=\"1\" class=\"dataframe\">\n",
       "  <thead>\n",
       "    <tr style=\"text-align: right;\">\n",
       "      <th></th>\n",
       "      <th>FECHA</th>\n",
       "      <th>HORA</th>\n",
       "    </tr>\n",
       "  </thead>\n",
       "  <tbody>\n",
       "    <tr>\n",
       "      <td>0</td>\n",
       "      <td>01/01/2019</td>\n",
       "      <td>14:00</td>\n",
       "    </tr>\n",
       "    <tr>\n",
       "      <td>1</td>\n",
       "      <td>02/01/2019</td>\n",
       "      <td>20:45</td>\n",
       "    </tr>\n",
       "    <tr>\n",
       "      <td>2</td>\n",
       "      <td>03/01/2019</td>\n",
       "      <td>14:30</td>\n",
       "    </tr>\n",
       "    <tr>\n",
       "      <td>3</td>\n",
       "      <td>03/01/2019</td>\n",
       "      <td>12:45</td>\n",
       "    </tr>\n",
       "    <tr>\n",
       "      <td>4</td>\n",
       "      <td>03/01/2019</td>\n",
       "      <td>12:45</td>\n",
       "    </tr>\n",
       "    <tr>\n",
       "      <td>5</td>\n",
       "      <td>03/01/2019</td>\n",
       "      <td>10:30</td>\n",
       "    </tr>\n",
       "    <tr>\n",
       "      <td>6</td>\n",
       "      <td>04/01/2019</td>\n",
       "      <td>17:10</td>\n",
       "    </tr>\n",
       "    <tr>\n",
       "      <td>7</td>\n",
       "      <td>04/01/2019</td>\n",
       "      <td>13:35</td>\n",
       "    </tr>\n",
       "    <tr>\n",
       "      <td>8</td>\n",
       "      <td>07/01/2019</td>\n",
       "      <td>14:00</td>\n",
       "    </tr>\n",
       "    <tr>\n",
       "      <td>9</td>\n",
       "      <td>08/01/2019</td>\n",
       "      <td>20:55</td>\n",
       "    </tr>\n",
       "  </tbody>\n",
       "</table>\n",
       "</div>"
      ],
      "text/plain": [
       "        FECHA   HORA\n",
       "0  01/01/2019  14:00\n",
       "1  02/01/2019  20:45\n",
       "2  03/01/2019  14:30\n",
       "3  03/01/2019  12:45\n",
       "4  03/01/2019  12:45\n",
       "5  03/01/2019  10:30\n",
       "6  04/01/2019  17:10\n",
       "7  04/01/2019  13:35\n",
       "8  07/01/2019  14:00\n",
       "9  08/01/2019  20:55"
      ]
     },
     "execution_count": 17,
     "metadata": {},
     "output_type": "execute_result"
    }
   ],
   "source": [
    "pd.read_sql_query(\"SELECT FECHA, HORA FROM mynewtable WHERE SEXO = 'Hombre' LIMIT 10\", connection)"
   ]
  },
  {
   "cell_type": "code",
   "execution_count": null,
   "metadata": {},
   "outputs": [],
   "source": []
  }
 ],
 "metadata": {
  "kernelspec": {
   "display_name": "Python 3",
   "language": "python",
   "name": "python3"
  },
  "language_info": {
   "codemirror_mode": {
    "name": "ipython",
    "version": 3
   },
   "file_extension": ".py",
   "mimetype": "text/x-python",
   "name": "python",
   "nbconvert_exporter": "python",
   "pygments_lexer": "ipython3",
   "version": "3.7.4"
  }
 },
 "nbformat": 4,
 "nbformat_minor": 1
}
