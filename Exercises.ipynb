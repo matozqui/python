{
 "cells": [
  {
   "cell_type": "code",
   "execution_count": 1,
   "metadata": {},
   "outputs": [
    {
     "name": "stdout",
     "output_type": "stream",
     "text": [
      "/home/matozqui\n"
     ]
    }
   ],
   "source": [
    "%cd"
   ]
  },
  {
   "cell_type": "code",
   "execution_count": 2,
   "metadata": {},
   "outputs": [
    {
     "name": "stdout",
     "output_type": "stream",
     "text": [
      "/home/matozqui/git/git_exercises/DS_CL_files/DS_CL_files/opentraveldata\n"
     ]
    }
   ],
   "source": [
    "% cd git/git_exercises/DS_CL_files/DS_CL_files/opentraveldata/"
   ]
  },
  {
   "cell_type": "code",
   "execution_count": 7,
   "metadata": {},
   "outputs": [
    {
     "name": "stdout",
     "output_type": "stream",
     "text": [
      "total 10568\r\n",
      "-rw-rw-rw- 1 matozqui matozqui       0 Nov 24 10:56 optd_aircraft_comma.csv\r\n",
      "-rw-rw-rw- 1 matozqui matozqui     186 Nov 23 18:22 CSVkitQuickExercises.txt\r\n",
      "-rw-rw-rw- 1 matozqui matozqui     628 Nov 23 17:35 less\r\n",
      "-rw-rw-rw- 1 matozqui matozqui     249 Nov 23 10:13 table.sql\r\n",
      "-rw-rw-rw- 1 matozqui matozqui   79824 Nov 23 09:53 file.txt\r\n",
      "-rwxrwxrwx 1 matozqui matozqui     204 Nov 22 22:00 \u001b[0m\u001b[01;32mcsv_number_column_copy.sh\u001b[0m*\r\n",
      "drwxrwxrwx 1 matozqui matozqui    4096 Nov 22 20:06 \u001b[34;42mzip\u001b[0m/\r\n",
      "-rw-rw-rw- 1 matozqui matozqui 2517182 Nov 22 20:06 output.zip\r\n",
      "-rw-rw-rw- 1 matozqui matozqui      21 Nov 22 18:22 numbers.txt\r\n",
      "-rw-rw-rw- 1 matozqui matozqui   18612 Nov 20 22:10 optd_aircraft.csv\r\n",
      "-rw-rw-rw- 1 matozqui matozqui  107306 Nov 20 22:10 optd_airlines.csv\r\n",
      "-rw-rw-rw- 1 matozqui matozqui 8080005 Nov 20 22:10 optd_por_public.csv\r\n"
     ]
    }
   ],
   "source": [
    "%ls -lt"
   ]
  },
  {
   "cell_type": "code",
   "execution_count": 11,
   "metadata": {},
   "outputs": [
    {
     "data": {
      "text/plain": [
       "'/home/matozqui'"
      ]
     },
     "execution_count": 11,
     "metadata": {},
     "output_type": "execute_result"
    }
   ],
   "source": [
    "%pwd"
   ]
  },
  {
   "cell_type": "code",
   "execution_count": 12,
   "metadata": {},
   "outputs": [
    {
     "name": "stdout",
     "output_type": "stream",
     "text": [
      "/home/matozqui/git/git_exercises/DS_CL_files/DS_CL_files/opentraveldata\n"
     ]
    }
   ],
   "source": [
    "% cd git/git_exercises/DS_CL_files/DS_CL_files/opentraveldata/"
   ]
  },
  {
   "cell_type": "code",
   "execution_count": 13,
   "metadata": {},
   "outputs": [
    {
     "name": "stdout",
     "output_type": "stream",
     "text": [
      "Directory history (kept in _dh)\n",
      "0: /home/matozqui/python\n",
      "1: /home/matozqui\n",
      "2: /home/matozqui/git/git_exercises/DS_CL_files/DS_CL_files/opentraveldata\n",
      "3: /home/matozqui\n",
      "4: /home/matozqui/git/git_exercises/DS_CL_files/DS_CL_files/opentraveldata\n"
     ]
    }
   ],
   "source": [
    "%dhist"
   ]
  },
  {
   "cell_type": "code",
   "execution_count": 16,
   "metadata": {},
   "outputs": [
    {
     "name": "stdout",
     "output_type": "stream",
     "text": [
      "13\r\n"
     ]
    }
   ],
   "source": [
    "%ls -l $i | wc -l"
   ]
  },
  {
   "cell_type": "code",
   "execution_count": null,
   "metadata": {},
   "outputs": [],
   "source": []
  }
 ],
 "metadata": {
  "kernelspec": {
   "display_name": "Python 3",
   "language": "python",
   "name": "python3"
  },
  "language_info": {
   "codemirror_mode": {
    "name": "ipython",
    "version": 3
   },
   "file_extension": ".py",
   "mimetype": "text/x-python",
   "name": "python",
   "nbconvert_exporter": "python",
   "pygments_lexer": "ipython3",
   "version": "3.6.9"
  }
 },
 "nbformat": 4,
 "nbformat_minor": 2
}
