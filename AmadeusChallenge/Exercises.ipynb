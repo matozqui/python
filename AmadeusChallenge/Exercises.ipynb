{
 "cells": [
  {
   "cell_type": "markdown",
   "metadata": {},
   "source": [
    "# Amadeus Challenge"
   ]
  },
  {
   "cell_type": "markdown",
   "metadata": {},
   "source": [
    "### Exercise 1 (number of lines for each file)"
   ]
  },
  {
   "cell_type": "code",
   "execution_count": 1,
   "metadata": {},
   "outputs": [
    {
     "name": "stdout",
     "output_type": "stream",
     "text": [
      "10000011 bookings.csv\r\n"
     ]
    }
   ],
   "source": [
    "!wc -l bookings.csv"
   ]
  },
  {
   "cell_type": "code",
   "execution_count": 2,
   "metadata": {},
   "outputs": [
    {
     "name": "stdout",
     "output_type": "stream",
     "text": [
      "20390198 searches.csv\r\n"
     ]
    }
   ],
   "source": [
    "!wc -l searches.csv"
   ]
  },
  {
   "cell_type": "markdown",
   "metadata": {},
   "source": [
    "### Exercise 2 (top 10 arrival airports)"
   ]
  },
  {
   "cell_type": "markdown",
   "metadata": {},
   "source": [
    "#### Importing data and moving to pandas"
   ]
  },
  {
   "cell_type": "code",
   "execution_count": 3,
   "metadata": {},
   "outputs": [],
   "source": [
    "import pandas as pd\n",
    "import datetime as dt\n",
    "import matplotlib"
   ]
  },
  {
   "cell_type": "code",
   "execution_count": 4,
   "metadata": {},
   "outputs": [
    {
     "name": "stderr",
     "output_type": "stream",
     "text": [
      "/home/matozqui/anaconda3/lib/python3.7/site-packages/IPython/core/interactiveshell.py:3058: DtypeWarning: Columns (7,8,27) have mixed types. Specify dtype option on import or set low_memory=False.\n",
      "  interactivity=interactivity, compiler=compiler, result=result)\n"
     ]
    }
   ],
   "source": [
    "bookings = pd.read_csv('./bookings.csv', delimiter='^')"
   ]
  },
  {
   "cell_type": "code",
   "execution_count": 5,
   "metadata": {},
   "outputs": [
    {
     "name": "stdout",
     "output_type": "stream",
     "text": [
      "   act_date             source  pos_ctry                          pos_iata  \\\n",
      "0  2013-03-05 00:00:00  1A      DE        a68dd7ae953c8acfb187a1af2dcbe123   \n",
      "1  2013-03-26 00:00:00  1A      US        e612b9eeeee6f17f42d9b0d3b79e75ca   \n",
      "2  2013-03-26 00:00:00  1A      US        e612b9eeeee6f17f42d9b0d3b79e75ca   \n",
      "3  2013-03-26 00:00:00  1A      AU        0f984b3bb6bd06661c95529bbd6193bc   \n",
      "4  2013-03-26 00:00:00  1A      AU        0f984b3bb6bd06661c95529bbd6193bc   \n",
      "\n",
      "                          pos_oid                      rloc            \\\n",
      "0  1a11ae49fcbf545fd2afc1a24d88d2b7  ea65900e72d71f4626378e2ebd298267   \n",
      "1  7437560d8f276d6d05eeb806d9e7edee  737295a86982c941f1c2da9a46a14043   \n",
      "2  7437560d8f276d6d05eeb806d9e7edee  737295a86982c941f1c2da9a46a14043   \n",
      "3  36472c6dbaf7afec9136ac40364e2794  5ecf00fdcbcec761c43dc7285253d0c1   \n",
      "4  36472c6dbaf7afec9136ac40364e2794  5ecf00fdcbcec761c43dc7285253d0c1   \n",
      "\n",
      "   cre_date            duration distance  dep_port  ...  route            \\\n",
      "0  2013-02-22 00:00:00     1708        0  ZRH       ...  LHRZRH            \n",
      "1  2013-03-26 00:00:00   135270        0  SAL       ...  SALATLCLT         \n",
      "2  2013-03-26 00:00:00   135270        0  SAL       ...  CLTATLSAL         \n",
      "3  2013-03-26 00:00:00    30885        0  AKL       ...  AKLHKGSVO         \n",
      "4  2013-03-26 00:00:00    30885        0  AKL       ...  SVOHKGAKL         \n",
      "\n",
      "  carrier  bkg_class  cab_class  brd_time             off_time             \\\n",
      "0      VI  T          Y          2013-03-07 08:50:00  2013-03-07 11:33:37   \n",
      "1      NV  L          Y          2013-04-12 13:04:00  2013-04-12 22:05:40   \n",
      "2      NV  U          Y          2013-07-15 07:00:00  2013-07-15 11:34:51   \n",
      "3      XK  G          Y          2013-04-24 23:59:00  2013-04-25 16:06:31   \n",
      "4      XK  G          Y          2013-05-14 20:15:00  2013-05-16 10:44:50   \n",
      "\n",
      "   pax    year month  oid        \n",
      "0 -1.0  2013.0   3.0  NULL       \n",
      "1  1.0  2013.0   3.0  NULL       \n",
      "2  1.0  2013.0   3.0  NULL       \n",
      "3  1.0  2013.0   3.0  SYDA82546  \n",
      "4  1.0  2013.0   3.0  SYDA82546  \n",
      "\n",
      "[5 rows x 38 columns]\n"
     ]
    }
   ],
   "source": [
    "print(bookings.head(5))"
   ]
  },
  {
   "cell_type": "code",
   "execution_count": 6,
   "metadata": {},
   "outputs": [
    {
     "data": {
      "text/plain": [
       "(10000010, 38)"
      ]
     },
     "execution_count": 6,
     "metadata": {},
     "output_type": "execute_result"
    }
   ],
   "source": [
    "bookings.shape"
   ]
  },
  {
   "cell_type": "code",
   "execution_count": 7,
   "metadata": {},
   "outputs": [
    {
     "data": {
      "text/plain": [
       "4908809.0"
      ]
     },
     "execution_count": 7,
     "metadata": {},
     "output_type": "execute_result"
    }
   ],
   "source": [
    "bookings['pax'].sum()"
   ]
  },
  {
   "cell_type": "code",
   "execution_count": 8,
   "metadata": {},
   "outputs": [
    {
     "data": {
      "text/plain": [
       "arr_port\n",
       "AAB           50\n",
       "AAE         1550\n",
       "AAL         1250\n",
       "AAN           70\n",
       "AAQ         1070\n",
       "            ... \n",
       "ZWE          130\n",
       "ZWS         1050\n",
       "ZYL         3760\n",
       "ZYN           20\n",
       "ZYR         1600\n",
       "Name: pax, Length: 2275, dtype: int64"
      ]
     },
     "execution_count": 8,
     "metadata": {},
     "output_type": "execute_result"
    }
   ],
   "source": [
    "bookings.groupby(['arr_port'])['pax'].agg('count')"
   ]
  },
  {
   "cell_type": "markdown",
   "metadata": {},
   "source": [
    "#### Top 10 arrival airports by passengers"
   ]
  },
  {
   "cell_type": "code",
   "execution_count": 9,
   "metadata": {},
   "outputs": [
    {
     "name": "stdout",
     "output_type": "stream",
     "text": [
      "arr_port\n",
      "LHR         88809.0\n",
      "MCO         70930.0\n",
      "LAX         70530.0\n",
      "LAS         69630.0\n",
      "JFK         66270.0\n",
      "CDG         64490.0\n",
      "BKK         59460.0\n",
      "MIA         58150.0\n",
      "SFO         58000.0\n",
      "DXB         55590.0\n",
      "Name: pax, dtype: float64\n"
     ]
    }
   ],
   "source": [
    "print(bookings.groupby(['arr_port'])['pax'].agg('sum').sort_values(ascending=False).nlargest(n=10))"
   ]
  },
  {
   "cell_type": "markdown",
   "metadata": {},
   "source": [
    "### Exercise 3 (monthly destinations)"
   ]
  },
  {
   "cell_type": "markdown",
   "metadata": {},
   "source": [
    "#### Importing data and moving to pandas"
   ]
  },
  {
   "cell_type": "code",
   "execution_count": 10,
   "metadata": {},
   "outputs": [
    {
     "name": "stderr",
     "output_type": "stream",
     "text": [
      "/home/matozqui/anaconda3/lib/python3.7/site-packages/IPython/core/interactiveshell.py:3058: DtypeWarning: Columns (40,41,42,44) have mixed types. Specify dtype option on import or set low_memory=False.\n",
      "  interactivity=interactivity, compiler=compiler, result=result)\n"
     ]
    }
   ],
   "source": [
    "searches = pd.read_csv('./searches.csv', delimiter='^')"
   ]
  },
  {
   "cell_type": "code",
   "execution_count": 11,
   "metadata": {},
   "outputs": [
    {
     "name": "stdout",
     "output_type": "stream",
     "text": [
      "         Date      Time TxnCode                          OfficeID Country  \\\n",
      "0  2013-01-01  20:25:57     MPT  624d8c3ac0b3a7ca03e3c167e0f48327      DE   \n",
      "1  2013-01-01  10:15:33     MPT  b0af35b31588dc4ab06d5cf2986e8e02      MD   \n",
      "2  2013-01-01  18:04:49     MPT  3561a60621de06ab1badc8ca55699ef3      US   \n",
      "3  2013-01-01  17:42:40     FXP  1864e5e8013d9414150e91d26b6a558b      SE   \n",
      "4  2013-01-01  17:48:29     MPT  1ec336348f44207d2e0027dc3a68c118      NO   \n",
      "\n",
      "  Origin Destination  RoundTrip  NbSegments Seg1Departure  ... Seg6Arrival  \\\n",
      "0    TXL         AUH        1.0         2.0           TXL  ...         NaN   \n",
      "1    ATH         MIL        0.0         1.0           ATH  ...         NaN   \n",
      "2    ICT         SFO        1.0         2.0           ICT  ...         NaN   \n",
      "3    RNB         ARN        0.0         1.0           RNB  ...         NaN   \n",
      "4    OSL         MAD        1.0         2.0           OSL  ...         NaN   \n",
      "\n",
      "  Seg6Date Seg6Carrier Seg6BookingCode    From IsPublishedForNeg  \\\n",
      "0      NaN         NaN             NaN  1ASIWS                 0   \n",
      "1      NaN         NaN             NaN  1ASIWS                 0   \n",
      "2      NaN         NaN             NaN  1ASIWS                 0   \n",
      "3      NaN         NaN             NaN    1ASI                 0   \n",
      "4      NaN         NaN             NaN  1ASIWS                 0   \n",
      "\n",
      "  IsFromInternet IsFromVista                        TerminalID InternetOffice  \n",
      "0              0           0  d41d8cd98f00b204e9800998ecf8427e            FRA  \n",
      "1              0           0  d41d8cd98f00b204e9800998ecf8427e            KIV  \n",
      "2              0           0  d41d8cd98f00b204e9800998ecf8427e            NYC  \n",
      "3              0           0  d41d8cd98f00b204e9800998ecf8427e            STO  \n",
      "4              0           0  d41d8cd98f00b204e9800998ecf8427e            OSL  \n",
      "\n",
      "[5 rows x 45 columns]\n"
     ]
    }
   ],
   "source": [
    "print(searches.head(5))"
   ]
  },
  {
   "cell_type": "code",
   "execution_count": 12,
   "metadata": {},
   "outputs": [
    {
     "data": {
      "text/plain": [
       "(20390198, 45)"
      ]
     },
     "execution_count": 12,
     "metadata": {},
     "output_type": "execute_result"
    }
   ],
   "source": [
    "searches.shape"
   ]
  },
  {
   "cell_type": "markdown",
   "metadata": {},
   "source": [
    "#### Monthly number of flights arrivals to Malaga, Barcelona and Madrid"
   ]
  },
  {
   "cell_type": "code",
   "execution_count": 13,
   "metadata": {},
   "outputs": [],
   "source": [
    "searches['month'] = searches['Date'].astype(str).str[5:7]"
   ]
  },
  {
   "cell_type": "code",
   "execution_count": 14,
   "metadata": {},
   "outputs": [],
   "source": [
    "dest = ['AGP','BCN','MAD']"
   ]
  },
  {
   "cell_type": "code",
   "execution_count": null,
   "metadata": {},
   "outputs": [],
   "source": [
    "searches_dates = searches[searches['Destination'].isin(dest)].groupby(['Destination','month'])['Time'].agg('count')"
   ]
  },
  {
   "cell_type": "code",
   "execution_count": null,
   "metadata": {},
   "outputs": [],
   "source": [
    "searches_dates"
   ]
  },
  {
   "cell_type": "code",
   "execution_count": null,
   "metadata": {},
   "outputs": [],
   "source": [
    "df_searches_dates = pd.DataFrame(searches_dates)"
   ]
  },
  {
   "cell_type": "code",
   "execution_count": null,
   "metadata": {},
   "outputs": [],
   "source": [
    "df_searches_dates['Time'].sum()"
   ]
  },
  {
   "cell_type": "code",
   "execution_count": null,
   "metadata": {},
   "outputs": [],
   "source": [
    "df_searches_dates.shape"
   ]
  },
  {
   "cell_type": "code",
   "execution_count": null,
   "metadata": {},
   "outputs": [],
   "source": [
    "df_searches_dates.unstack(level=-2).plot()"
   ]
  },
  {
   "cell_type": "markdown",
   "metadata": {},
   "source": [
    "### Exercise 4 (Match searches with bookings)"
   ]
  },
  {
   "cell_type": "markdown",
   "metadata": {},
   "source": [
    "#### Checking and cleaning data"
   ]
  },
  {
   "cell_type": "code",
   "execution_count": 1,
   "metadata": {},
   "outputs": [],
   "source": [
    "import pandas as pd\n",
    "pd.set_option('display.max_columns',None) ## Display all columns in pandas dataframe"
   ]
  },
  {
   "cell_type": "code",
   "execution_count": 2,
   "metadata": {},
   "outputs": [
    {
     "data": {
      "text/plain": [
       "(9999, 38)"
      ]
     },
     "execution_count": 2,
     "metadata": {},
     "output_type": "execute_result"
    }
   ],
   "source": [
    "bookings = pd.read_csv('bookings.csv.bz2',sep='^',nrows=9999)\n",
    "bookings.columns = bookings.columns.str.strip()\n",
    "bookings.shape"
   ]
  },
  {
   "cell_type": "code",
   "execution_count": 3,
   "metadata": {},
   "outputs": [
    {
     "data": {
      "text/html": [
       "<div>\n",
       "<style scoped>\n",
       "    .dataframe tbody tr th:only-of-type {\n",
       "        vertical-align: middle;\n",
       "    }\n",
       "\n",
       "    .dataframe tbody tr th {\n",
       "        vertical-align: top;\n",
       "    }\n",
       "\n",
       "    .dataframe thead th {\n",
       "        text-align: right;\n",
       "    }\n",
       "</style>\n",
       "<table border=\"1\" class=\"dataframe\">\n",
       "  <thead>\n",
       "    <tr style=\"text-align: right;\">\n",
       "      <th></th>\n",
       "      <th>act_date</th>\n",
       "      <th>source</th>\n",
       "      <th>pos_ctry</th>\n",
       "      <th>pos_iata</th>\n",
       "      <th>pos_oid</th>\n",
       "      <th>rloc</th>\n",
       "      <th>cre_date</th>\n",
       "      <th>duration</th>\n",
       "      <th>distance</th>\n",
       "      <th>dep_port</th>\n",
       "      <th>dep_city</th>\n",
       "      <th>dep_ctry</th>\n",
       "      <th>arr_port</th>\n",
       "      <th>arr_city</th>\n",
       "      <th>arr_ctry</th>\n",
       "      <th>lst_port</th>\n",
       "      <th>lst_city</th>\n",
       "      <th>lst_ctry</th>\n",
       "      <th>brd_port</th>\n",
       "      <th>brd_city</th>\n",
       "      <th>brd_ctry</th>\n",
       "      <th>off_port</th>\n",
       "      <th>off_city</th>\n",
       "      <th>off_ctry</th>\n",
       "      <th>mkt_port</th>\n",
       "      <th>mkt_city</th>\n",
       "      <th>mkt_ctry</th>\n",
       "      <th>intl</th>\n",
       "      <th>route</th>\n",
       "      <th>carrier</th>\n",
       "      <th>bkg_class</th>\n",
       "      <th>cab_class</th>\n",
       "      <th>brd_time</th>\n",
       "      <th>off_time</th>\n",
       "      <th>pax</th>\n",
       "      <th>year</th>\n",
       "      <th>month</th>\n",
       "      <th>oid</th>\n",
       "    </tr>\n",
       "  </thead>\n",
       "  <tbody>\n",
       "    <tr>\n",
       "      <td>6358</td>\n",
       "      <td>2013-03-11 00:00:00</td>\n",
       "      <td>1A</td>\n",
       "      <td>DE</td>\n",
       "      <td>466bd419ae9885ddc5b437170f74623d</td>\n",
       "      <td>9aa037e8d4135205e54688c113ed7e80</td>\n",
       "      <td>553d6c2db1da1cdb64d144c06d535fcb</td>\n",
       "      <td>2013-03-11 00:00:00</td>\n",
       "      <td>29861</td>\n",
       "      <td>0</td>\n",
       "      <td>DUS</td>\n",
       "      <td>DUS</td>\n",
       "      <td>DE</td>\n",
       "      <td>LAS</td>\n",
       "      <td>LAS</td>\n",
       "      <td>US</td>\n",
       "      <td>DUS</td>\n",
       "      <td>DUS</td>\n",
       "      <td>DE</td>\n",
       "      <td>JFK</td>\n",
       "      <td>NYC</td>\n",
       "      <td>US</td>\n",
       "      <td>LAS</td>\n",
       "      <td>LAS</td>\n",
       "      <td>US</td>\n",
       "      <td>JFKLAS</td>\n",
       "      <td>LASNYC</td>\n",
       "      <td>USUS</td>\n",
       "      <td>0</td>\n",
       "      <td>JFKLAS</td>\n",
       "      <td>KK</td>\n",
       "      <td>S</td>\n",
       "      <td>Y</td>\n",
       "      <td>2013-06-04 17:00:00</td>\n",
       "      <td>2013-06-04 19:02:36</td>\n",
       "      <td>2</td>\n",
       "      <td>2013</td>\n",
       "      <td>3</td>\n",
       "      <td>BEROP38AW</td>\n",
       "    </tr>\n",
       "    <tr>\n",
       "      <td>853</td>\n",
       "      <td>2013-03-14 00:00:00</td>\n",
       "      <td>1A</td>\n",
       "      <td>ES</td>\n",
       "      <td>9297f538d3a49b74eef79821544dc17e</td>\n",
       "      <td>0f5b2245eeee13493233299557ac05ca</td>\n",
       "      <td>f25cef4ed37d1483d0c4c7cfba9758ef</td>\n",
       "      <td>2013-03-13 00:00:00</td>\n",
       "      <td>8948</td>\n",
       "      <td>0</td>\n",
       "      <td>BCN</td>\n",
       "      <td>BCN</td>\n",
       "      <td>ES</td>\n",
       "      <td>LIM</td>\n",
       "      <td>LIM</td>\n",
       "      <td>PE</td>\n",
       "      <td>BCN</td>\n",
       "      <td>BCN</td>\n",
       "      <td>ES</td>\n",
       "      <td>LIM</td>\n",
       "      <td>LIM</td>\n",
       "      <td>PE</td>\n",
       "      <td>LPB</td>\n",
       "      <td>LPB</td>\n",
       "      <td>BO</td>\n",
       "      <td>LIMLPB</td>\n",
       "      <td>LIMLPB</td>\n",
       "      <td>BOPE</td>\n",
       "      <td>1</td>\n",
       "      <td>LIMVVILPB</td>\n",
       "      <td>VK</td>\n",
       "      <td>V</td>\n",
       "      <td>Y</td>\n",
       "      <td>2013-03-20 10:20:00</td>\n",
       "      <td>2013-03-20 20:56:56</td>\n",
       "      <td>-1</td>\n",
       "      <td>2013</td>\n",
       "      <td>3</td>\n",
       "      <td>BCNI12186</td>\n",
       "    </tr>\n",
       "    <tr>\n",
       "      <td>6777</td>\n",
       "      <td>2013-03-12 00:00:00</td>\n",
       "      <td>1A</td>\n",
       "      <td>RU</td>\n",
       "      <td>402c90a71304130e46caddeef76d88b1</td>\n",
       "      <td>01bd661ece61c84903a9750c6d4444f2</td>\n",
       "      <td>e366824abfb3ab1bec1207313c8e5483</td>\n",
       "      <td>2013-03-12 00:00:00</td>\n",
       "      <td>3993</td>\n",
       "      <td>0</td>\n",
       "      <td>SVO</td>\n",
       "      <td>MOW</td>\n",
       "      <td>RU</td>\n",
       "      <td>IST</td>\n",
       "      <td>IST</td>\n",
       "      <td>TR</td>\n",
       "      <td>SVO</td>\n",
       "      <td>MOW</td>\n",
       "      <td>RU</td>\n",
       "      <td>IST</td>\n",
       "      <td>IST</td>\n",
       "      <td>TR</td>\n",
       "      <td>SVO</td>\n",
       "      <td>MOW</td>\n",
       "      <td>RU</td>\n",
       "      <td>ISTSVO</td>\n",
       "      <td>ISTMOW</td>\n",
       "      <td>RUTR</td>\n",
       "      <td>1</td>\n",
       "      <td>ISTSVO</td>\n",
       "      <td>DF</td>\n",
       "      <td>N</td>\n",
       "      <td>Y</td>\n",
       "      <td>2013-03-28 21:35:00</td>\n",
       "      <td>2013-03-29 02:28:36</td>\n",
       "      <td>2</td>\n",
       "      <td>2013</td>\n",
       "      <td>3</td>\n",
       "      <td>NULL</td>\n",
       "    </tr>\n",
       "    <tr>\n",
       "      <td>4743</td>\n",
       "      <td>2013-03-07 00:00:00</td>\n",
       "      <td>1V</td>\n",
       "      <td>JP</td>\n",
       "      <td>9f92cfa21574af22ccc5c43bb325bd46</td>\n",
       "      <td>f6e94476b867f606d207cd2ef8995513</td>\n",
       "      <td>f7ef7245c1fc374a3eabd96efb261a09</td>\n",
       "      <td>2013-03-07 00:00:00</td>\n",
       "      <td>11374</td>\n",
       "      <td>0</td>\n",
       "      <td>HND</td>\n",
       "      <td>TYO</td>\n",
       "      <td>JP</td>\n",
       "      <td>HNL</td>\n",
       "      <td>HNL</td>\n",
       "      <td>US</td>\n",
       "      <td>HND</td>\n",
       "      <td>TYO</td>\n",
       "      <td>JP</td>\n",
       "      <td>HNL</td>\n",
       "      <td>HNL</td>\n",
       "      <td>US</td>\n",
       "      <td>HND</td>\n",
       "      <td>TYO</td>\n",
       "      <td>JP</td>\n",
       "      <td>HNDHNL</td>\n",
       "      <td>HNLTYO</td>\n",
       "      <td>JPUS</td>\n",
       "      <td>1</td>\n",
       "      <td>HNLHND</td>\n",
       "      <td>XR</td>\n",
       "      <td>W</td>\n",
       "      <td>Y</td>\n",
       "      <td>2013-06-04 18:35:00</td>\n",
       "      <td>2013-06-05 21:39:48</td>\n",
       "      <td>1</td>\n",
       "      <td>2013</td>\n",
       "      <td>3</td>\n",
       "      <td>NULL</td>\n",
       "    </tr>\n",
       "    <tr>\n",
       "      <td>7523</td>\n",
       "      <td>2013-03-22 00:00:00</td>\n",
       "      <td>1P</td>\n",
       "      <td>US</td>\n",
       "      <td>461c775de1a57413b0e812d6bf3c4365</td>\n",
       "      <td>e0aeface9792d639664c59a300e32f0f</td>\n",
       "      <td>2845af5dc7330c47c69121f3399122e1</td>\n",
       "      <td>2013-03-22 00:00:00</td>\n",
       "      <td>15150</td>\n",
       "      <td>0</td>\n",
       "      <td>IAH</td>\n",
       "      <td>HOU</td>\n",
       "      <td>US</td>\n",
       "      <td>HKG</td>\n",
       "      <td>HKG</td>\n",
       "      <td>HK</td>\n",
       "      <td>IAH</td>\n",
       "      <td>HOU</td>\n",
       "      <td>US</td>\n",
       "      <td>IAH</td>\n",
       "      <td>HOU</td>\n",
       "      <td>US</td>\n",
       "      <td>HKG</td>\n",
       "      <td>HKG</td>\n",
       "      <td>HK</td>\n",
       "      <td>HKGIAH</td>\n",
       "      <td>HKGHOU</td>\n",
       "      <td>HKUS</td>\n",
       "      <td>1</td>\n",
       "      <td>IAHSFOHKG</td>\n",
       "      <td>FK</td>\n",
       "      <td>S</td>\n",
       "      <td>Y</td>\n",
       "      <td>2013-04-21 07:13:00</td>\n",
       "      <td>2013-04-22 17:42:54</td>\n",
       "      <td>2</td>\n",
       "      <td>2013</td>\n",
       "      <td>3</td>\n",
       "      <td>NULL</td>\n",
       "    </tr>\n",
       "  </tbody>\n",
       "</table>\n",
       "</div>"
      ],
      "text/plain": [
       "                 act_date  source  pos_ctry                          pos_iata  \\\n",
       "6358  2013-03-11 00:00:00  1A      DE        466bd419ae9885ddc5b437170f74623d   \n",
       "853   2013-03-14 00:00:00  1A      ES        9297f538d3a49b74eef79821544dc17e   \n",
       "6777  2013-03-12 00:00:00  1A      RU        402c90a71304130e46caddeef76d88b1   \n",
       "4743  2013-03-07 00:00:00  1V      JP        9f92cfa21574af22ccc5c43bb325bd46   \n",
       "7523  2013-03-22 00:00:00  1P      US        461c775de1a57413b0e812d6bf3c4365   \n",
       "\n",
       "                               pos_oid                              rloc  \\\n",
       "6358  9aa037e8d4135205e54688c113ed7e80  553d6c2db1da1cdb64d144c06d535fcb   \n",
       "853   0f5b2245eeee13493233299557ac05ca  f25cef4ed37d1483d0c4c7cfba9758ef   \n",
       "6777  01bd661ece61c84903a9750c6d4444f2  e366824abfb3ab1bec1207313c8e5483   \n",
       "4743  f6e94476b867f606d207cd2ef8995513  f7ef7245c1fc374a3eabd96efb261a09   \n",
       "7523  e0aeface9792d639664c59a300e32f0f  2845af5dc7330c47c69121f3399122e1   \n",
       "\n",
       "                 cre_date  duration  distance  dep_port  dep_city  dep_ctry  \\\n",
       "6358  2013-03-11 00:00:00     29861         0  DUS       DUS       DE         \n",
       "853   2013-03-13 00:00:00      8948         0  BCN       BCN       ES         \n",
       "6777  2013-03-12 00:00:00      3993         0  SVO       MOW       RU         \n",
       "4743  2013-03-07 00:00:00     11374         0  HND       TYO       JP         \n",
       "7523  2013-03-22 00:00:00     15150         0  IAH       HOU       US         \n",
       "\n",
       "      arr_port  arr_city  arr_ctry  lst_port  lst_city  lst_ctry  brd_port  \\\n",
       "6358  LAS       LAS       US        DUS       DUS       DE        JFK        \n",
       "853   LIM       LIM       PE        BCN       BCN       ES        LIM        \n",
       "6777  IST       IST       TR        SVO       MOW       RU        IST        \n",
       "4743  HNL       HNL       US        HND       TYO       JP        HNL        \n",
       "7523  HKG       HKG       HK        IAH       HOU       US        IAH        \n",
       "\n",
       "      brd_city  brd_ctry  off_port  off_city  off_ctry  mkt_port  mkt_city  \\\n",
       "6358  NYC       US        LAS       LAS       US        JFKLAS    LASNYC     \n",
       "853   LIM       PE        LPB       LPB       BO        LIMLPB    LIMLPB     \n",
       "6777  IST       TR        SVO       MOW       RU        ISTSVO    ISTMOW     \n",
       "4743  HNL       US        HND       TYO       JP        HNDHNL    HNLTYO     \n",
       "7523  HOU       US        HKG       HKG       HK        HKGIAH    HKGHOU     \n",
       "\n",
       "      mkt_ctry  intl            route carrier  bkg_class  cab_class  \\\n",
       "6358  USUS         0     JFKLAS            KK  S          Y           \n",
       "853   BOPE         1  LIMVVILPB            VK  V          Y           \n",
       "6777  RUTR         1     ISTSVO            DF  N          Y           \n",
       "4743  JPUS         1  HNLHND               XR  W          Y           \n",
       "7523  HKUS         1     IAHSFOHKG         FK  S          Y           \n",
       "\n",
       "                 brd_time             off_time  pax  year  month        oid  \n",
       "6358  2013-06-04 17:00:00  2013-06-04 19:02:36    2  2013      3  BEROP38AW  \n",
       "853   2013-03-20 10:20:00  2013-03-20 20:56:56   -1  2013      3  BCNI12186  \n",
       "6777  2013-03-28 21:35:00  2013-03-29 02:28:36    2  2013      3  NULL       \n",
       "4743  2013-06-04 18:35:00  2013-06-05 21:39:48    1  2013      3  NULL       \n",
       "7523  2013-04-21 07:13:00  2013-04-22 17:42:54    2  2013      3  NULL       "
      ]
     },
     "execution_count": 3,
     "metadata": {},
     "output_type": "execute_result"
    }
   ],
   "source": [
    "bookings.sample(5)"
   ]
  },
  {
   "cell_type": "markdown",
   "metadata": {},
   "source": [
    "## First try"
   ]
  },
  {
   "cell_type": "markdown",
   "metadata": {},
   "source": [
    "#### Bookings formatting"
   ]
  },
  {
   "cell_type": "markdown",
   "metadata": {},
   "source": [
    "1) Group bookings by rloc (booking reference), brd_port (boarding airport), off_port (destination airport), brd_time (boarding time), and sum pax (+ for bookings and - for cancelations). Then filter only >0 pax to take only booking references that ended up with a flight\n",
    "2) Map the previous df with bookings to take the most recent active date (last modification of booking)\n",
    "3) From previous selection add the rest of necessary fields to join with searches act_date +  pos_oid + brd_port + off_port + brd_time + rloc + pax)"
   ]
  },
  {
   "cell_type": "code",
   "execution_count": 94,
   "metadata": {},
   "outputs": [],
   "source": [
    "import pandas as pd\n",
    "pd.set_option('display.max_columns',None) ## Display all columns in pandas dataframe\n",
    "\n",
    "bookings = pd.read_csv('bookings.csv.bz2',sep='^',nrows=9999,\\\n",
    "                       usecols= ['act_date           ',\\\n",
    "                                 'pos_oid  ',\\\n",
    "                                 'rloc          ',\\\n",
    "                                 'brd_port',\\\n",
    "                                 'off_port',\\\n",
    "                                 'brd_time           ',\\\n",
    "                                 'source',\\\n",
    "                                 'pos_ctry',\\\n",
    "                                 'pos_iata',\\\n",
    "                                 'pax']\\\n",
    "                      )\n",
    "bookings.columns = bookings.columns.str.strip()"
   ]
  },
  {
   "cell_type": "markdown",
   "metadata": {},
   "source": [
    "1st grouping"
   ]
  },
  {
   "cell_type": "code",
   "execution_count": 95,
   "metadata": {},
   "outputs": [
    {
     "data": {
      "text/html": [
       "<div>\n",
       "<style scoped>\n",
       "    .dataframe tbody tr th:only-of-type {\n",
       "        vertical-align: middle;\n",
       "    }\n",
       "\n",
       "    .dataframe tbody tr th {\n",
       "        vertical-align: top;\n",
       "    }\n",
       "\n",
       "    .dataframe thead th {\n",
       "        text-align: right;\n",
       "    }\n",
       "</style>\n",
       "<table border=\"1\" class=\"dataframe\">\n",
       "  <thead>\n",
       "    <tr style=\"text-align: right;\">\n",
       "      <th></th>\n",
       "      <th>rloc</th>\n",
       "      <th>brd_port</th>\n",
       "      <th>off_port</th>\n",
       "      <th>pax</th>\n",
       "    </tr>\n",
       "  </thead>\n",
       "  <tbody>\n",
       "    <tr>\n",
       "      <td>0</td>\n",
       "      <td>0007cf4196c558df1a7cc3ac25b98b9e</td>\n",
       "      <td>ABV</td>\n",
       "      <td>LHR</td>\n",
       "      <td>1</td>\n",
       "    </tr>\n",
       "    <tr>\n",
       "      <td>1</td>\n",
       "      <td>0007cf4196c558df1a7cc3ac25b98b9e</td>\n",
       "      <td>LHR</td>\n",
       "      <td>ABV</td>\n",
       "      <td>1</td>\n",
       "    </tr>\n",
       "    <tr>\n",
       "      <td>2</td>\n",
       "      <td>000caf3cca9af21c1b9865de5117925d</td>\n",
       "      <td>BOS</td>\n",
       "      <td>DCA</td>\n",
       "      <td>4</td>\n",
       "    </tr>\n",
       "    <tr>\n",
       "      <td>3</td>\n",
       "      <td>003ce300c2dc52524d1c04cc2e92c02e</td>\n",
       "      <td>KUL</td>\n",
       "      <td>SIN</td>\n",
       "      <td>1</td>\n",
       "    </tr>\n",
       "    <tr>\n",
       "      <td>4</td>\n",
       "      <td>003ce300c2dc52524d1c04cc2e92c02e</td>\n",
       "      <td>SIN</td>\n",
       "      <td>KUL</td>\n",
       "      <td>1</td>\n",
       "    </tr>\n",
       "    <tr>\n",
       "      <td>...</td>\n",
       "      <td>...</td>\n",
       "      <td>...</td>\n",
       "      <td>...</td>\n",
       "      <td>...</td>\n",
       "    </tr>\n",
       "    <tr>\n",
       "      <td>6712</td>\n",
       "      <td>ffded40a2a0299ff1a2f7b691f71d711</td>\n",
       "      <td>PLS</td>\n",
       "      <td>JFK</td>\n",
       "      <td>1</td>\n",
       "    </tr>\n",
       "    <tr>\n",
       "      <td>6716</td>\n",
       "      <td>ffef9887438f564ac17ee01d06fbe7b0</td>\n",
       "      <td>LAX</td>\n",
       "      <td>TPE</td>\n",
       "      <td>1</td>\n",
       "    </tr>\n",
       "    <tr>\n",
       "      <td>6717</td>\n",
       "      <td>ffef9887438f564ac17ee01d06fbe7b0</td>\n",
       "      <td>TPE</td>\n",
       "      <td>LAX</td>\n",
       "      <td>1</td>\n",
       "    </tr>\n",
       "    <tr>\n",
       "      <td>6718</td>\n",
       "      <td>fff240658db03b71d82149168852e782</td>\n",
       "      <td>EVV</td>\n",
       "      <td>JAX</td>\n",
       "      <td>1</td>\n",
       "    </tr>\n",
       "    <tr>\n",
       "      <td>6719</td>\n",
       "      <td>fff240658db03b71d82149168852e782</td>\n",
       "      <td>JAX</td>\n",
       "      <td>EVV</td>\n",
       "      <td>1</td>\n",
       "    </tr>\n",
       "  </tbody>\n",
       "</table>\n",
       "<p>4371 rows × 4 columns</p>\n",
       "</div>"
      ],
      "text/plain": [
       "                                  rloc  brd_port  off_port  pax\n",
       "0     0007cf4196c558df1a7cc3ac25b98b9e  ABV       LHR         1\n",
       "1     0007cf4196c558df1a7cc3ac25b98b9e  LHR       ABV         1\n",
       "2     000caf3cca9af21c1b9865de5117925d  BOS       DCA         4\n",
       "3     003ce300c2dc52524d1c04cc2e92c02e  KUL       SIN         1\n",
       "4     003ce300c2dc52524d1c04cc2e92c02e  SIN       KUL         1\n",
       "...                                ...       ...       ...  ...\n",
       "6712  ffded40a2a0299ff1a2f7b691f71d711  PLS       JFK         1\n",
       "6716  ffef9887438f564ac17ee01d06fbe7b0  LAX       TPE         1\n",
       "6717  ffef9887438f564ac17ee01d06fbe7b0  TPE       LAX         1\n",
       "6718  fff240658db03b71d82149168852e782  EVV       JAX         1\n",
       "6719  fff240658db03b71d82149168852e782  JAX       EVV         1\n",
       "\n",
       "[4371 rows x 4 columns]"
      ]
     },
     "execution_count": 95,
     "metadata": {},
     "output_type": "execute_result"
    }
   ],
   "source": [
    "b1 = bookings.groupby(['rloc','brd_port','off_port'])['pax'].sum().reset_index()\n",
    "b1 = b1[b1['pax']>0]\n",
    "b1"
   ]
  },
  {
   "cell_type": "markdown",
   "metadata": {},
   "source": [
    "2nd grouping"
   ]
  },
  {
   "cell_type": "code",
   "execution_count": 96,
   "metadata": {},
   "outputs": [
    {
     "data": {
      "text/html": [
       "<div>\n",
       "<style scoped>\n",
       "    .dataframe tbody tr th:only-of-type {\n",
       "        vertical-align: middle;\n",
       "    }\n",
       "\n",
       "    .dataframe tbody tr th {\n",
       "        vertical-align: top;\n",
       "    }\n",
       "\n",
       "    .dataframe thead th {\n",
       "        text-align: right;\n",
       "    }\n",
       "</style>\n",
       "<table border=\"1\" class=\"dataframe\">\n",
       "  <thead>\n",
       "    <tr style=\"text-align: right;\">\n",
       "      <th></th>\n",
       "      <th>rloc</th>\n",
       "      <th>brd_port</th>\n",
       "      <th>off_port</th>\n",
       "      <th>pax</th>\n",
       "      <th>act_date</th>\n",
       "    </tr>\n",
       "  </thead>\n",
       "  <tbody>\n",
       "    <tr>\n",
       "      <td>3373</td>\n",
       "      <td>c4ef1015e42df655d3dbd51f4cf01f17</td>\n",
       "      <td>LHR</td>\n",
       "      <td>DEN</td>\n",
       "      <td>1</td>\n",
       "      <td>2013-03-07 00:00:00</td>\n",
       "    </tr>\n",
       "    <tr>\n",
       "      <td>666</td>\n",
       "      <td>260fb23105f7341e8680e89ef4291c64</td>\n",
       "      <td>JFK</td>\n",
       "      <td>ORD</td>\n",
       "      <td>1</td>\n",
       "      <td>2013-03-14 00:00:00</td>\n",
       "    </tr>\n",
       "    <tr>\n",
       "      <td>1572</td>\n",
       "      <td>5b0c9d150f1e8f36dacc8848d3111d41</td>\n",
       "      <td>OMA</td>\n",
       "      <td>DFW</td>\n",
       "      <td>1</td>\n",
       "      <td>2013-03-29 00:00:00</td>\n",
       "    </tr>\n",
       "  </tbody>\n",
       "</table>\n",
       "</div>"
      ],
      "text/plain": [
       "                                  rloc  brd_port  off_port  pax  \\\n",
       "3373  c4ef1015e42df655d3dbd51f4cf01f17  LHR       DEN         1   \n",
       "666   260fb23105f7341e8680e89ef4291c64  JFK       ORD         1   \n",
       "1572  5b0c9d150f1e8f36dacc8848d3111d41  OMA       DFW         1   \n",
       "\n",
       "                 act_date  \n",
       "3373  2013-03-07 00:00:00  \n",
       "666   2013-03-14 00:00:00  \n",
       "1572  2013-03-29 00:00:00  "
      ]
     },
     "execution_count": 96,
     "metadata": {},
     "output_type": "execute_result"
    }
   ],
   "source": [
    "b_max_dates = bookings.groupby(['rloc','brd_port','off_port'])['act_date'].max().reset_index()\n",
    "b2 = pd.merge(left=b1,right=b_max_dates,how='inner',left_on=['rloc','brd_port','off_port'], right_on=['rloc','brd_port','off_port'])\n",
    "b2.shape\n",
    "b2.sample(3)"
   ]
  },
  {
   "cell_type": "markdown",
   "metadata": {},
   "source": [
    "3rd grouping"
   ]
  },
  {
   "cell_type": "code",
   "execution_count": 97,
   "metadata": {},
   "outputs": [
    {
     "data": {
      "text/plain": [
       "(4802, 11)"
      ]
     },
     "execution_count": 97,
     "metadata": {},
     "output_type": "execute_result"
    }
   ],
   "source": [
    "b3 = pd.merge(left=bookings,right=b2,how='inner',left_on=['rloc','brd_port','off_port','act_date'], right_on=['rloc','brd_port','off_port','act_date'])\n",
    "b3.shape"
   ]
  },
  {
   "cell_type": "markdown",
   "metadata": {},
   "source": [
    "No way found to pick the most recent update on a booking when there are coincidences\n",
    "between last update date and the next recent one, \n",
    "so it might happen to get more data in this 3rd grouping than in the previous"
   ]
  },
  {
   "cell_type": "code",
   "execution_count": 98,
   "metadata": {},
   "outputs": [
    {
     "data": {
      "text/plain": [
       "act_date    2013-03-26 00:00:002013-03-26 00:00:002013-03-...\n",
       "source      1A    1A    1A    1A    1V    1V    1V    1V  ...\n",
       "pos_ctry    US      US      AU      AU      US      US    ...\n",
       "pos_iata    e612b9eeeee6f17f42d9b0d3b79e75cae612b9eeeee6f1...\n",
       "pos_oid     7437560d8f276d6d05eeb806d9e7edee7437560d8f276d...\n",
       "rloc        737295a86982c941f1c2da9a46a14043737295a86982c9...\n",
       "brd_port    SAL     CLT     AKL     SVO     DEN     LGA   ...\n",
       "off_port    CLT     SAL     SVO     AKL     LGA     DEN   ...\n",
       "brd_time    2013-04-12 13:04:002013-07-15 07:00:002013-04-...\n",
       "pax_x                                                    5442\n",
       "pax_y                                                    6476\n",
       "dtype: object"
      ]
     },
     "execution_count": 98,
     "metadata": {},
     "output_type": "execute_result"
    }
   ],
   "source": [
    "b3.sum()"
   ]
  },
  {
   "cell_type": "markdown",
   "metadata": {},
   "source": [
    "#### Searches formatting"
   ]
  },
  {
   "cell_type": "code",
   "execution_count": 122,
   "metadata": {},
   "outputs": [
    {
     "data": {
      "text/plain": [
       "(9999, 20)"
      ]
     },
     "execution_count": 122,
     "metadata": {},
     "output_type": "execute_result"
    }
   ],
   "source": [
    "searches = pd.read_csv('searches.csv.bz2',sep='^',nrows=9999,\\\n",
    "                       usecols= ['Date',\\\n",
    "                                'OfficeID',\\\n",
    "                                'Seg1Departure',\\\n",
    "                                'Seg1Arrival',\\\n",
    "                                'Seg1Date',\\\n",
    "                                'Seg2Departure',\\\n",
    "                                'Seg2Arrival',\\\n",
    "                                'Seg2Date',\\\n",
    "                                'Seg3Departure',\\\n",
    "                                'Seg3Arrival',\\\n",
    "                                'Seg3Date',\\\n",
    "                                'Seg4Departure',\\\n",
    "                                'Seg4Arrival',\\\n",
    "                                'Seg4Date',\\\n",
    "                                'Seg5Departure',\\\n",
    "                                'Seg5Arrival',\\\n",
    "                                'Seg5Date',\\\n",
    "                                'Seg6Departure',\\\n",
    "                                'Seg6Arrival',\\\n",
    "                                'Seg6Date']\\\n",
    "                      )\n",
    "searches.columns = searches.columns.str.strip()\n",
    "searches.shape"
   ]
  },
  {
   "cell_type": "markdown",
   "metadata": {},
   "source": [
    "Convert columns Seg1, Seg2, etc. (departure, arrival and date) into flight searches records in the table"
   ]
  },
  {
   "cell_type": "code",
   "execution_count": 123,
   "metadata": {},
   "outputs": [],
   "source": [
    "s1 = pd.DataFrame()\n",
    "for i in range(1,7):\n",
    "    a = searches[[\n",
    "                'Date',\\\n",
    "                'OfficeID',\\\n",
    "                'Seg' + str(i) + 'Departure',\\\n",
    "                'Seg' + str(i) + 'Arrival',\\\n",
    "                'Seg' + str(i) + 'Date',\\\n",
    "            ]]\n",
    "    a.columns = ['act_date','pos_oid','brd_port','off_port','brd_time']\n",
    "    s1 = pd.concat([s1,a])"
   ]
  },
  {
   "cell_type": "code",
   "execution_count": 124,
   "metadata": {},
   "outputs": [
    {
     "data": {
      "text/html": [
       "<div>\n",
       "<style scoped>\n",
       "    .dataframe tbody tr th:only-of-type {\n",
       "        vertical-align: middle;\n",
       "    }\n",
       "\n",
       "    .dataframe tbody tr th {\n",
       "        vertical-align: top;\n",
       "    }\n",
       "\n",
       "    .dataframe thead th {\n",
       "        text-align: right;\n",
       "    }\n",
       "</style>\n",
       "<table border=\"1\" class=\"dataframe\">\n",
       "  <thead>\n",
       "    <tr style=\"text-align: right;\">\n",
       "      <th></th>\n",
       "      <th>act_date</th>\n",
       "      <th>pos_oid</th>\n",
       "      <th>brd_port</th>\n",
       "      <th>off_port</th>\n",
       "      <th>brd_time</th>\n",
       "    </tr>\n",
       "  </thead>\n",
       "  <tbody>\n",
       "    <tr>\n",
       "      <td>7950</td>\n",
       "      <td>2013-01-08</td>\n",
       "      <td>84d45f6fb4344fb462055952f2ee6358</td>\n",
       "      <td>NaN</td>\n",
       "      <td>NaN</td>\n",
       "      <td>NaN</td>\n",
       "    </tr>\n",
       "    <tr>\n",
       "      <td>7755</td>\n",
       "      <td>2013-01-08</td>\n",
       "      <td>788e52ddaa551032c69ba37cc316233f</td>\n",
       "      <td>NaN</td>\n",
       "      <td>NaN</td>\n",
       "      <td>NaN</td>\n",
       "    </tr>\n",
       "    <tr>\n",
       "      <td>6106</td>\n",
       "      <td>2013-01-07</td>\n",
       "      <td>3561a60621de06ab1badc8ca55699ef3</td>\n",
       "      <td>NaN</td>\n",
       "      <td>NaN</td>\n",
       "      <td>NaN</td>\n",
       "    </tr>\n",
       "    <tr>\n",
       "      <td>650</td>\n",
       "      <td>2013-01-01</td>\n",
       "      <td>a7640866868096c8a1d087e66589879e</td>\n",
       "      <td>NaN</td>\n",
       "      <td>NaN</td>\n",
       "      <td>NaN</td>\n",
       "    </tr>\n",
       "    <tr>\n",
       "      <td>1041</td>\n",
       "      <td>2013-01-02</td>\n",
       "      <td>d03a30f66f773a65aad66e7bafd1110f</td>\n",
       "      <td>NaN</td>\n",
       "      <td>NaN</td>\n",
       "      <td>NaN</td>\n",
       "    </tr>\n",
       "  </tbody>\n",
       "</table>\n",
       "</div>"
      ],
      "text/plain": [
       "        act_date                           pos_oid brd_port off_port brd_time\n",
       "7950  2013-01-08  84d45f6fb4344fb462055952f2ee6358      NaN      NaN      NaN\n",
       "7755  2013-01-08  788e52ddaa551032c69ba37cc316233f      NaN      NaN      NaN\n",
       "6106  2013-01-07  3561a60621de06ab1badc8ca55699ef3      NaN      NaN      NaN\n",
       "650   2013-01-01  a7640866868096c8a1d087e66589879e      NaN      NaN      NaN\n",
       "1041  2013-01-02  d03a30f66f773a65aad66e7bafd1110f      NaN      NaN      NaN"
      ]
     },
     "execution_count": 124,
     "metadata": {},
     "output_type": "execute_result"
    }
   ],
   "source": [
    "s1.sample(5)"
   ]
  },
  {
   "cell_type": "markdown",
   "metadata": {},
   "source": [
    "Not all searches have 2nd, 3rd, 4th, etc. flight so we drop them"
   ]
  },
  {
   "cell_type": "code",
   "execution_count": 125,
   "metadata": {},
   "outputs": [
    {
     "data": {
      "text/plain": [
       "(18263, 5)"
      ]
     },
     "execution_count": 125,
     "metadata": {},
     "output_type": "execute_result"
    }
   ],
   "source": [
    "s2 = s1.dropna()\n",
    "s2.shape"
   ]
  },
  {
   "cell_type": "markdown",
   "metadata": {},
   "source": [
    "Check duplicates and adding people per search"
   ]
  },
  {
   "cell_type": "code",
   "execution_count": 126,
   "metadata": {},
   "outputs": [
    {
     "data": {
      "text/plain": [
       "(13, 5)"
      ]
     },
     "execution_count": 126,
     "metadata": {},
     "output_type": "execute_result"
    }
   ],
   "source": [
    "s2[s2.duplicated()].shape"
   ]
  },
  {
   "cell_type": "code",
   "execution_count": 127,
   "metadata": {},
   "outputs": [
    {
     "data": {
      "text/plain": [
       "(18250, 5)"
      ]
     },
     "execution_count": 127,
     "metadata": {},
     "output_type": "execute_result"
    }
   ],
   "source": [
    "s3 = s2.drop_duplicates()\n",
    "s3.shape"
   ]
  },
  {
   "cell_type": "markdown",
   "metadata": {},
   "source": [
    "#### Some data cleanance"
   ]
  },
  {
   "cell_type": "code",
   "execution_count": 128,
   "metadata": {},
   "outputs": [
    {
     "data": {
      "text/plain": [
       "['act_date',\n",
       " 'source',\n",
       " 'pos_ctry',\n",
       " 'pos_iata',\n",
       " 'pos_oid',\n",
       " 'rloc',\n",
       " 'brd_port',\n",
       " 'off_port',\n",
       " 'brd_time',\n",
       " 'pax_x',\n",
       " 'pax_y',\n",
       " 'bdr_date',\n",
       " 'brd_date']"
      ]
     },
     "execution_count": 128,
     "metadata": {},
     "output_type": "execute_result"
    }
   ],
   "source": [
    "list(b3.columns)"
   ]
  },
  {
   "cell_type": "code",
   "execution_count": 129,
   "metadata": {},
   "outputs": [
    {
     "data": {
      "text/plain": [
       "['act_date', 'pos_oid', 'brd_port', 'off_port', 'brd_time']"
      ]
     },
     "execution_count": 129,
     "metadata": {},
     "output_type": "execute_result"
    }
   ],
   "source": [
    "list(s3.columns)"
   ]
  },
  {
   "cell_type": "markdown",
   "metadata": {},
   "source": [
    "Change datetime format to date"
   ]
  },
  {
   "cell_type": "code",
   "execution_count": 130,
   "metadata": {},
   "outputs": [
    {
     "name": "stderr",
     "output_type": "stream",
     "text": [
      "/home/matozqui/anaconda3/lib/python3.7/site-packages/ipykernel_launcher.py:3: SettingWithCopyWarning: \n",
      "A value is trying to be set on a copy of a slice from a DataFrame.\n",
      "Try using .loc[row_indexer,col_indexer] = value instead\n",
      "\n",
      "See the caveats in the documentation: http://pandas.pydata.org/pandas-docs/stable/user_guide/indexing.html#returning-a-view-versus-a-copy\n",
      "  This is separate from the ipykernel package so we can avoid doing imports until\n"
     ]
    }
   ],
   "source": [
    "import dateutil.parser\n",
    "b3['brd_date'] = b3['brd_time'].apply(lambda x: dateutil.parser.parse(x).date())\n",
    "s3['brd_date'] = s3['brd_time'].apply(lambda x: dateutil.parser.parse(x).date())\n",
    "b3['act_date'] = b3['act_date'].apply(lambda x: dateutil.parser.parse(x).date())\n",
    "s3['act_date'] = s3['act_date'].apply(lambda x: dateutil.parser.parse(x).date())"
   ]
  },
  {
   "cell_type": "code",
   "execution_count": 151,
   "metadata": {},
   "outputs": [
    {
     "data": {
      "text/plain": [
       "9991    2013-01-10\n",
       "9979    2013-01-10\n",
       "9955    2013-01-10\n",
       "9954    2013-01-10\n",
       "9953    2013-01-10\n",
       "           ...    \n",
       "171     2013-01-01\n",
       "172     2013-01-01\n",
       "176     2013-01-01\n",
       "177     2013-01-01\n",
       "0       2013-01-01\n",
       "Name: act_date, Length: 18250, dtype: object"
      ]
     },
     "execution_count": 151,
     "metadata": {},
     "output_type": "execute_result"
    }
   ],
   "source": [
    "s3['act_date'].sort_values(ascending=False)"
   ]
  },
  {
   "cell_type": "markdown",
   "metadata": {},
   "source": [
    "Remove blank spaces for all values"
   ]
  },
  {
   "cell_type": "code",
   "execution_count": 163,
   "metadata": {},
   "outputs": [
    {
     "name": "stderr",
     "output_type": "stream",
     "text": [
      "/home/matozqui/anaconda3/lib/python3.7/site-packages/ipykernel_launcher.py:1: SettingWithCopyWarning: \n",
      "A value is trying to be set on a copy of a slice from a DataFrame.\n",
      "Try using .loc[row_indexer,col_indexer] = value instead\n",
      "\n",
      "See the caveats in the documentation: http://pandas.pydata.org/pandas-docs/stable/user_guide/indexing.html#returning-a-view-versus-a-copy\n",
      "  \"\"\"Entry point for launching an IPython kernel.\n",
      "/home/matozqui/anaconda3/lib/python3.7/site-packages/ipykernel_launcher.py:3: SettingWithCopyWarning: \n",
      "A value is trying to be set on a copy of a slice from a DataFrame.\n",
      "Try using .loc[row_indexer,col_indexer] = value instead\n",
      "\n",
      "See the caveats in the documentation: http://pandas.pydata.org/pandas-docs/stable/user_guide/indexing.html#returning-a-view-versus-a-copy\n",
      "  This is separate from the ipykernel package so we can avoid doing imports until\n",
      "/home/matozqui/anaconda3/lib/python3.7/site-packages/ipykernel_launcher.py:5: SettingWithCopyWarning: \n",
      "A value is trying to be set on a copy of a slice from a DataFrame.\n",
      "Try using .loc[row_indexer,col_indexer] = value instead\n",
      "\n",
      "See the caveats in the documentation: http://pandas.pydata.org/pandas-docs/stable/user_guide/indexing.html#returning-a-view-versus-a-copy\n",
      "  \"\"\"\n"
     ]
    }
   ],
   "source": [
    "s3['pos_oid'] = s3['pos_oid'].apply(lambda x: x.strip())\n",
    "b3['pos_oid'] = b3['pos_oid'].apply(lambda x: x.strip())\n",
    "s3['brd_port'] = s3['brd_port'] .apply(lambda x: x.strip())\n",
    "b3['brd_port'] = b3['brd_port'] .apply(lambda x: x.strip())\n",
    "s3['off_port'] = s3['off_port'] .apply(lambda x: x.strip())\n",
    "b3['off_port'] = b3['off_port'] .apply(lambda x: x.strip())"
   ]
  },
  {
   "cell_type": "markdown",
   "metadata": {},
   "source": [
    "#### Mixing both"
   ]
  },
  {
   "cell_type": "code",
   "execution_count": 179,
   "metadata": {},
   "outputs": [
    {
     "data": {
      "text/plain": [
       "(3768, 17)"
      ]
     },
     "execution_count": 179,
     "metadata": {},
     "output_type": "execute_result"
    }
   ],
   "source": [
    "finded = pd.merge(left=b3,right=s3,how='inner',\\\n",
    "                  left_on=[\\\n",
    "                           #'act_date'\\\n",
    "                           #'pos_oid'\\\n",
    "                           'brd_port'\\\n",
    "                           ,'off_port'\\\n",
    "                           #,'brd_date'\\\n",
    "                          ]\\\n",
    "                  ,right_on=[\\\n",
    "                           #'act_date'\\\n",
    "                           #'pos_oid'\\\n",
    "                           'brd_port'\\\n",
    "                           ,'off_port'\\\n",
    "                           #,'brd_date'\\\n",
    "                            ]\\\n",
    "                 )\n",
    "finded.drop_duplicates(inplace=True)\n",
    "finded.shape"
   ]
  },
  {
   "cell_type": "code",
   "execution_count": 184,
   "metadata": {},
   "outputs": [],
   "source": [
    "finded['found']=1"
   ]
  },
  {
   "cell_type": "code",
   "execution_count": 199,
   "metadata": {},
   "outputs": [
    {
     "data": {
      "text/plain": [
       "0        1.0\n",
       "1        1.0\n",
       "2        0.0\n",
       "3        0.0\n",
       "4        0.0\n",
       "        ... \n",
       "12835    0.0\n",
       "12836    1.0\n",
       "12837    1.0\n",
       "12838    0.0\n",
       "12839    0.0\n",
       "Name: found, Length: 12840, dtype: float64"
      ]
     },
     "execution_count": 199,
     "metadata": {},
     "output_type": "execute_result"
    }
   ],
   "source": [
    "final = pd.merge(left=b3,right=finded,how='left',\\\n",
    "                  left_on=[\\\n",
    "                           #'act_date'\\\n",
    "                           #'pos_oid'\\\n",
    "                           'brd_port'\\\n",
    "                           ,'off_port'\\\n",
    "                           #,'brd_date'\\\n",
    "                          ]\\\n",
    "                  ,right_on=[\\\n",
    "                           #'act_date'\\\n",
    "                           #'pos_oid'\\\n",
    "                           'brd_port'\\\n",
    "                           ,'off_port'\\\n",
    "                           #,'brd_date'\\\n",
    "                            ]\\\n",
    "                 )\n",
    "final.drop_duplicates(inplace=True)\n",
    "final['found'].fillna(0, inplace=True)\n",
    "final.columns\n",
    "final.groupby('found').count()\n",
    "final['found']"
   ]
  },
  {
   "cell_type": "code",
   "execution_count": null,
   "metadata": {},
   "outputs": [],
   "source": []
  }
 ],
 "metadata": {
  "kernelspec": {
   "display_name": "Python 3",
   "language": "python",
   "name": "python3"
  },
  "language_info": {
   "codemirror_mode": {
    "name": "ipython",
    "version": 3
   },
   "file_extension": ".py",
   "mimetype": "text/x-python",
   "name": "python",
   "nbconvert_exporter": "python",
   "pygments_lexer": "ipython3",
   "version": "3.7.4"
  }
 },
 "nbformat": 4,
 "nbformat_minor": 2
}
