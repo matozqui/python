{
 "cells": [
  {
   "cell_type": "markdown",
   "metadata": {},
   "source": [
    "# Amadeus Challenge"
   ]
  },
  {
   "cell_type": "markdown",
   "metadata": {},
   "source": [
    "### Exercise 1 (number of lines for each file)"
   ]
  },
  {
   "cell_type": "code",
   "execution_count": 1,
   "metadata": {},
   "outputs": [
    {
     "name": "stdout",
     "output_type": "stream",
     "text": [
      "10000011 bookings.csv\r\n"
     ]
    }
   ],
   "source": [
    "!wc -l bookings.csv"
   ]
  },
  {
   "cell_type": "code",
   "execution_count": 2,
   "metadata": {},
   "outputs": [
    {
     "name": "stdout",
     "output_type": "stream",
     "text": [
      "20390198 searches.csv\r\n"
     ]
    }
   ],
   "source": [
    "!wc -l searches.csv"
   ]
  },
  {
   "cell_type": "markdown",
   "metadata": {},
   "source": [
    "### Exercise 2 (top 10 arrival airports)"
   ]
  },
  {
   "cell_type": "markdown",
   "metadata": {},
   "source": [
    "#### Moving to pandas"
   ]
  },
  {
   "cell_type": "code",
   "execution_count": 4,
   "metadata": {},
   "outputs": [],
   "source": [
    "import pandas as pd\n",
    "import datetime as dt"
   ]
  },
  {
   "cell_type": "code",
   "execution_count": 4,
   "metadata": {},
   "outputs": [
    {
     "name": "stderr",
     "output_type": "stream",
     "text": [
      "/home/matozqui/anaconda3/lib/python3.7/site-packages/IPython/core/interactiveshell.py:3058: DtypeWarning: Columns (7,8,27) have mixed types. Specify dtype option on import or set low_memory=False.\n",
      "  interactivity=interactivity, compiler=compiler, result=result)\n"
     ]
    }
   ],
   "source": [
    "df = pd.read_csv('./bookings.csv', delimiter='^')"
   ]
  },
  {
   "cell_type": "code",
   "execution_count": 5,
   "metadata": {},
   "outputs": [
    {
     "name": "stdout",
     "output_type": "stream",
     "text": [
      "   act_date             source  pos_ctry                          pos_iata  \\\n",
      "0  2013-03-05 00:00:00  1A      DE        a68dd7ae953c8acfb187a1af2dcbe123   \n",
      "1  2013-03-26 00:00:00  1A      US        e612b9eeeee6f17f42d9b0d3b79e75ca   \n",
      "2  2013-03-26 00:00:00  1A      US        e612b9eeeee6f17f42d9b0d3b79e75ca   \n",
      "3  2013-03-26 00:00:00  1A      AU        0f984b3bb6bd06661c95529bbd6193bc   \n",
      "4  2013-03-26 00:00:00  1A      AU        0f984b3bb6bd06661c95529bbd6193bc   \n",
      "\n",
      "                          pos_oid                      rloc            \\\n",
      "0  1a11ae49fcbf545fd2afc1a24d88d2b7  ea65900e72d71f4626378e2ebd298267   \n",
      "1  7437560d8f276d6d05eeb806d9e7edee  737295a86982c941f1c2da9a46a14043   \n",
      "2  7437560d8f276d6d05eeb806d9e7edee  737295a86982c941f1c2da9a46a14043   \n",
      "3  36472c6dbaf7afec9136ac40364e2794  5ecf00fdcbcec761c43dc7285253d0c1   \n",
      "4  36472c6dbaf7afec9136ac40364e2794  5ecf00fdcbcec761c43dc7285253d0c1   \n",
      "\n",
      "   cre_date            duration distance  dep_port  ...  route            \\\n",
      "0  2013-02-22 00:00:00     1708        0  ZRH       ...  LHRZRH            \n",
      "1  2013-03-26 00:00:00   135270        0  SAL       ...  SALATLCLT         \n",
      "2  2013-03-26 00:00:00   135270        0  SAL       ...  CLTATLSAL         \n",
      "3  2013-03-26 00:00:00    30885        0  AKL       ...  AKLHKGSVO         \n",
      "4  2013-03-26 00:00:00    30885        0  AKL       ...  SVOHKGAKL         \n",
      "\n",
      "  carrier  bkg_class  cab_class  brd_time             off_time             \\\n",
      "0      VI  T          Y          2013-03-07 08:50:00  2013-03-07 11:33:37   \n",
      "1      NV  L          Y          2013-04-12 13:04:00  2013-04-12 22:05:40   \n",
      "2      NV  U          Y          2013-07-15 07:00:00  2013-07-15 11:34:51   \n",
      "3      XK  G          Y          2013-04-24 23:59:00  2013-04-25 16:06:31   \n",
      "4      XK  G          Y          2013-05-14 20:15:00  2013-05-16 10:44:50   \n",
      "\n",
      "   pax    year month  oid        \n",
      "0 -1.0  2013.0   3.0  NULL       \n",
      "1  1.0  2013.0   3.0  NULL       \n",
      "2  1.0  2013.0   3.0  NULL       \n",
      "3  1.0  2013.0   3.0  SYDA82546  \n",
      "4  1.0  2013.0   3.0  SYDA82546  \n",
      "\n",
      "[5 rows x 38 columns]\n"
     ]
    }
   ],
   "source": [
    "print(df.head(5))"
   ]
  },
  {
   "cell_type": "code",
   "execution_count": 6,
   "metadata": {},
   "outputs": [
    {
     "data": {
      "text/plain": [
       "(10000010, 38)"
      ]
     },
     "execution_count": 6,
     "metadata": {},
     "output_type": "execute_result"
    }
   ],
   "source": [
    "df.shape"
   ]
  },
  {
   "cell_type": "code",
   "execution_count": 7,
   "metadata": {},
   "outputs": [
    {
     "data": {
      "text/plain": [
       "4908809.0"
      ]
     },
     "execution_count": 7,
     "metadata": {},
     "output_type": "execute_result"
    }
   ],
   "source": [
    "df['pax'].sum()"
   ]
  },
  {
   "cell_type": "code",
   "execution_count": 8,
   "metadata": {},
   "outputs": [
    {
     "data": {
      "text/html": [
       "<div>\n",
       "<style scoped>\n",
       "    .dataframe tbody tr th:only-of-type {\n",
       "        vertical-align: middle;\n",
       "    }\n",
       "\n",
       "    .dataframe tbody tr th {\n",
       "        vertical-align: top;\n",
       "    }\n",
       "\n",
       "    .dataframe thead th {\n",
       "        text-align: right;\n",
       "    }\n",
       "</style>\n",
       "<table border=\"1\" class=\"dataframe\">\n",
       "  <thead>\n",
       "    <tr style=\"text-align: right;\">\n",
       "      <th></th>\n",
       "      <th>arr_port</th>\n",
       "      <th>act_date</th>\n",
       "      <th>source</th>\n",
       "      <th>pos_ctry</th>\n",
       "      <th>pos_iata</th>\n",
       "      <th>pos_oid</th>\n",
       "      <th>rloc</th>\n",
       "      <th>cre_date</th>\n",
       "      <th>duration</th>\n",
       "      <th>distance</th>\n",
       "      <th>...</th>\n",
       "      <th>route</th>\n",
       "      <th>carrier</th>\n",
       "      <th>bkg_class</th>\n",
       "      <th>cab_class</th>\n",
       "      <th>brd_time</th>\n",
       "      <th>off_time</th>\n",
       "      <th>pax</th>\n",
       "      <th>year</th>\n",
       "      <th>month</th>\n",
       "      <th>oid</th>\n",
       "    </tr>\n",
       "  </thead>\n",
       "  <tbody>\n",
       "    <tr>\n",
       "      <td>0</td>\n",
       "      <td>LHR</td>\n",
       "      <td>215551</td>\n",
       "      <td>215551</td>\n",
       "      <td>215551</td>\n",
       "      <td>215551</td>\n",
       "      <td>215551</td>\n",
       "      <td>215551</td>\n",
       "      <td>215551</td>\n",
       "      <td>215551</td>\n",
       "      <td>215551</td>\n",
       "      <td>...</td>\n",
       "      <td>215551</td>\n",
       "      <td>215551</td>\n",
       "      <td>215551</td>\n",
       "      <td>215551</td>\n",
       "      <td>215551</td>\n",
       "      <td>215551</td>\n",
       "      <td>215551</td>\n",
       "      <td>215551</td>\n",
       "      <td>215551</td>\n",
       "      <td>215551</td>\n",
       "    </tr>\n",
       "    <tr>\n",
       "      <td>1</td>\n",
       "      <td>CLT</td>\n",
       "      <td>28422</td>\n",
       "      <td>28422</td>\n",
       "      <td>28422</td>\n",
       "      <td>28422</td>\n",
       "      <td>28422</td>\n",
       "      <td>28422</td>\n",
       "      <td>28422</td>\n",
       "      <td>28422</td>\n",
       "      <td>28422</td>\n",
       "      <td>...</td>\n",
       "      <td>28422</td>\n",
       "      <td>28422</td>\n",
       "      <td>28422</td>\n",
       "      <td>28422</td>\n",
       "      <td>28422</td>\n",
       "      <td>28422</td>\n",
       "      <td>28422</td>\n",
       "      <td>28422</td>\n",
       "      <td>28422</td>\n",
       "      <td>28422</td>\n",
       "    </tr>\n",
       "    <tr>\n",
       "      <td>2</td>\n",
       "      <td>SVO</td>\n",
       "      <td>37902</td>\n",
       "      <td>37902</td>\n",
       "      <td>37902</td>\n",
       "      <td>37902</td>\n",
       "      <td>37902</td>\n",
       "      <td>37902</td>\n",
       "      <td>37902</td>\n",
       "      <td>37902</td>\n",
       "      <td>37902</td>\n",
       "      <td>...</td>\n",
       "      <td>37902</td>\n",
       "      <td>37902</td>\n",
       "      <td>37902</td>\n",
       "      <td>37902</td>\n",
       "      <td>37902</td>\n",
       "      <td>37902</td>\n",
       "      <td>37902</td>\n",
       "      <td>37902</td>\n",
       "      <td>37902</td>\n",
       "      <td>37902</td>\n",
       "    </tr>\n",
       "    <tr>\n",
       "      <td>3</td>\n",
       "      <td>LGA</td>\n",
       "      <td>62212</td>\n",
       "      <td>62212</td>\n",
       "      <td>62212</td>\n",
       "      <td>62212</td>\n",
       "      <td>62212</td>\n",
       "      <td>62212</td>\n",
       "      <td>62212</td>\n",
       "      <td>62212</td>\n",
       "      <td>62212</td>\n",
       "      <td>...</td>\n",
       "      <td>62212</td>\n",
       "      <td>62212</td>\n",
       "      <td>62212</td>\n",
       "      <td>62212</td>\n",
       "      <td>62212</td>\n",
       "      <td>62212</td>\n",
       "      <td>62212</td>\n",
       "      <td>62212</td>\n",
       "      <td>62212</td>\n",
       "      <td>62212</td>\n",
       "    </tr>\n",
       "    <tr>\n",
       "      <td>4</td>\n",
       "      <td>SIN</td>\n",
       "      <td>78012</td>\n",
       "      <td>78012</td>\n",
       "      <td>78012</td>\n",
       "      <td>78012</td>\n",
       "      <td>78012</td>\n",
       "      <td>78012</td>\n",
       "      <td>78012</td>\n",
       "      <td>78012</td>\n",
       "      <td>78012</td>\n",
       "      <td>...</td>\n",
       "      <td>78012</td>\n",
       "      <td>78012</td>\n",
       "      <td>78012</td>\n",
       "      <td>78012</td>\n",
       "      <td>78012</td>\n",
       "      <td>78012</td>\n",
       "      <td>78012</td>\n",
       "      <td>78012</td>\n",
       "      <td>78012</td>\n",
       "      <td>78012</td>\n",
       "    </tr>\n",
       "    <tr>\n",
       "      <td>...</td>\n",
       "      <td>...</td>\n",
       "      <td>...</td>\n",
       "      <td>...</td>\n",
       "      <td>...</td>\n",
       "      <td>...</td>\n",
       "      <td>...</td>\n",
       "      <td>...</td>\n",
       "      <td>...</td>\n",
       "      <td>...</td>\n",
       "      <td>...</td>\n",
       "      <td>...</td>\n",
       "      <td>...</td>\n",
       "      <td>...</td>\n",
       "      <td>...</td>\n",
       "      <td>...</td>\n",
       "      <td>...</td>\n",
       "      <td>...</td>\n",
       "      <td>...</td>\n",
       "      <td>...</td>\n",
       "      <td>...</td>\n",
       "      <td>...</td>\n",
       "    </tr>\n",
       "    <tr>\n",
       "      <td>2270</td>\n",
       "      <td>KGP</td>\n",
       "      <td>10</td>\n",
       "      <td>10</td>\n",
       "      <td>10</td>\n",
       "      <td>10</td>\n",
       "      <td>10</td>\n",
       "      <td>10</td>\n",
       "      <td>10</td>\n",
       "      <td>10</td>\n",
       "      <td>10</td>\n",
       "      <td>...</td>\n",
       "      <td>10</td>\n",
       "      <td>10</td>\n",
       "      <td>10</td>\n",
       "      <td>10</td>\n",
       "      <td>10</td>\n",
       "      <td>10</td>\n",
       "      <td>10</td>\n",
       "      <td>10</td>\n",
       "      <td>10</td>\n",
       "      <td>10</td>\n",
       "    </tr>\n",
       "    <tr>\n",
       "      <td>2271</td>\n",
       "      <td>CNJ</td>\n",
       "      <td>30</td>\n",
       "      <td>30</td>\n",
       "      <td>30</td>\n",
       "      <td>30</td>\n",
       "      <td>30</td>\n",
       "      <td>30</td>\n",
       "      <td>30</td>\n",
       "      <td>30</td>\n",
       "      <td>30</td>\n",
       "      <td>...</td>\n",
       "      <td>30</td>\n",
       "      <td>30</td>\n",
       "      <td>30</td>\n",
       "      <td>30</td>\n",
       "      <td>30</td>\n",
       "      <td>30</td>\n",
       "      <td>30</td>\n",
       "      <td>30</td>\n",
       "      <td>30</td>\n",
       "      <td>30</td>\n",
       "    </tr>\n",
       "    <tr>\n",
       "      <td>2272</td>\n",
       "      <td>VEL</td>\n",
       "      <td>20</td>\n",
       "      <td>20</td>\n",
       "      <td>20</td>\n",
       "      <td>20</td>\n",
       "      <td>20</td>\n",
       "      <td>20</td>\n",
       "      <td>20</td>\n",
       "      <td>20</td>\n",
       "      <td>20</td>\n",
       "      <td>...</td>\n",
       "      <td>20</td>\n",
       "      <td>20</td>\n",
       "      <td>20</td>\n",
       "      <td>20</td>\n",
       "      <td>20</td>\n",
       "      <td>20</td>\n",
       "      <td>20</td>\n",
       "      <td>20</td>\n",
       "      <td>20</td>\n",
       "      <td>20</td>\n",
       "    </tr>\n",
       "    <tr>\n",
       "      <td>2273</td>\n",
       "      <td>SLM</td>\n",
       "      <td>20</td>\n",
       "      <td>20</td>\n",
       "      <td>20</td>\n",
       "      <td>20</td>\n",
       "      <td>20</td>\n",
       "      <td>20</td>\n",
       "      <td>20</td>\n",
       "      <td>20</td>\n",
       "      <td>20</td>\n",
       "      <td>...</td>\n",
       "      <td>20</td>\n",
       "      <td>20</td>\n",
       "      <td>20</td>\n",
       "      <td>20</td>\n",
       "      <td>20</td>\n",
       "      <td>20</td>\n",
       "      <td>20</td>\n",
       "      <td>20</td>\n",
       "      <td>20</td>\n",
       "      <td>20</td>\n",
       "    </tr>\n",
       "    <tr>\n",
       "      <td>2274</td>\n",
       "      <td>SG</td>\n",
       "      <td>1</td>\n",
       "      <td>1</td>\n",
       "      <td>0</td>\n",
       "      <td>1</td>\n",
       "      <td>1</td>\n",
       "      <td>1</td>\n",
       "      <td>1</td>\n",
       "      <td>1</td>\n",
       "      <td>1</td>\n",
       "      <td>...</td>\n",
       "      <td>1</td>\n",
       "      <td>1</td>\n",
       "      <td>1</td>\n",
       "      <td>1</td>\n",
       "      <td>1</td>\n",
       "      <td>1</td>\n",
       "      <td>0</td>\n",
       "      <td>0</td>\n",
       "      <td>0</td>\n",
       "      <td>0</td>\n",
       "    </tr>\n",
       "  </tbody>\n",
       "</table>\n",
       "<p>2275 rows × 38 columns</p>\n",
       "</div>"
      ],
      "text/plain": [
       "      arr_port  act_date             source  pos_ctry  pos_iata  pos_oid    \\\n",
       "0     LHR                    215551  215551    215551    215551     215551   \n",
       "1     CLT                     28422   28422     28422     28422      28422   \n",
       "2     SVO                     37902   37902     37902     37902      37902   \n",
       "3     LGA                     62212   62212     62212     62212      62212   \n",
       "4     SIN                     78012   78012     78012     78012      78012   \n",
       "...        ...                  ...     ...       ...       ...        ...   \n",
       "2270  KGP                        10      10        10        10         10   \n",
       "2271  CNJ                        30      30        30        30         30   \n",
       "2272  VEL                        20      20        20        20         20   \n",
       "2273  SLM                        20      20        20        20         20   \n",
       "2274  SG                          1       1         0         1          1   \n",
       "\n",
       "      rloc            cre_date             duration  distance  ...  \\\n",
       "0             215551               215551    215551    215551  ...   \n",
       "1              28422                28422     28422     28422  ...   \n",
       "2              37902                37902     37902     37902  ...   \n",
       "3              62212                62212     62212     62212  ...   \n",
       "4              78012                78012     78012     78012  ...   \n",
       "...              ...                  ...       ...       ...  ...   \n",
       "2270              10                   10        10        10  ...   \n",
       "2271              30                   30        30        30  ...   \n",
       "2272              20                   20        20        20  ...   \n",
       "2273              20                   20        20        20  ...   \n",
       "2274               1                    1         1         1  ...   \n",
       "\n",
       "      route            carrier  bkg_class  cab_class  brd_time             \\\n",
       "0              215551   215551     215551     215551               215551   \n",
       "1               28422    28422      28422      28422                28422   \n",
       "2               37902    37902      37902      37902                37902   \n",
       "3               62212    62212      62212      62212                62212   \n",
       "4               78012    78012      78012      78012                78012   \n",
       "...               ...      ...        ...        ...                  ...   \n",
       "2270               10       10         10         10                   10   \n",
       "2271               30       30         30         30                   30   \n",
       "2272               20       20         20         20                   20   \n",
       "2273               20       20         20         20                   20   \n",
       "2274                1        1          1          1                    1   \n",
       "\n",
       "      off_time                pax    year   month  oid        \n",
       "0                  215551  215551  215551  215551     215551  \n",
       "1                   28422   28422   28422   28422      28422  \n",
       "2                   37902   37902   37902   37902      37902  \n",
       "3                   62212   62212   62212   62212      62212  \n",
       "4                   78012   78012   78012   78012      78012  \n",
       "...                   ...     ...     ...     ...        ...  \n",
       "2270                   10      10      10      10         10  \n",
       "2271                   30      30      30      30         30  \n",
       "2272                   20      20      20      20         20  \n",
       "2273                   20      20      20      20         20  \n",
       "2274                    1       0       0       0          0  \n",
       "\n",
       "[2275 rows x 38 columns]"
      ]
     },
     "execution_count": 8,
     "metadata": {},
     "output_type": "execute_result"
    }
   ],
   "source": [
    "df.groupby(['arr_port'], as_index=False, sort=False).count()"
   ]
  },
  {
   "cell_type": "markdown",
   "metadata": {},
   "source": [
    "#### Top 10 arrival airports by passengers"
   ]
  },
  {
   "cell_type": "code",
   "execution_count": 9,
   "metadata": {},
   "outputs": [
    {
     "name": "stdout",
     "output_type": "stream",
     "text": [
      "arr_port\n",
      "LHR         88809.0\n",
      "MCO         70930.0\n",
      "LAX         70530.0\n",
      "LAS         69630.0\n",
      "JFK         66270.0\n",
      "CDG         64490.0\n",
      "BKK         59460.0\n",
      "MIA         58150.0\n",
      "SFO         58000.0\n",
      "DXB         55590.0\n",
      "Name: pax, dtype: float64\n"
     ]
    }
   ],
   "source": [
    "print(df.groupby(['arr_port'])['pax'].agg('sum').sort_values(ascending=False).nlargest(n=10))"
   ]
  },
  {
   "cell_type": "markdown",
   "metadata": {},
   "source": [
    "### Exercise 3 (monthly destinations)"
   ]
  },
  {
   "cell_type": "markdown",
   "metadata": {},
   "source": [
    "#### Moving to pandas"
   ]
  },
  {
   "cell_type": "code",
   "execution_count": 5,
   "metadata": {},
   "outputs": [
    {
     "name": "stderr",
     "output_type": "stream",
     "text": [
      "/home/matozqui/anaconda3/lib/python3.7/site-packages/IPython/core/interactiveshell.py:3058: DtypeWarning: Columns (40,41,42,44) have mixed types. Specify dtype option on import or set low_memory=False.\n",
      "  interactivity=interactivity, compiler=compiler, result=result)\n"
     ]
    }
   ],
   "source": [
    "searches = pd.read_csv('./searches.csv', delimiter='^')"
   ]
  },
  {
   "cell_type": "code",
   "execution_count": 6,
   "metadata": {
    "collapsed": true
   },
   "outputs": [
    {
     "name": "stdout",
     "output_type": "stream",
     "text": [
      "         Date      Time TxnCode                          OfficeID Country  \\\n",
      "0  2013-01-01  20:25:57     MPT  624d8c3ac0b3a7ca03e3c167e0f48327      DE   \n",
      "1  2013-01-01  10:15:33     MPT  b0af35b31588dc4ab06d5cf2986e8e02      MD   \n",
      "2  2013-01-01  18:04:49     MPT  3561a60621de06ab1badc8ca55699ef3      US   \n",
      "3  2013-01-01  17:42:40     FXP  1864e5e8013d9414150e91d26b6a558b      SE   \n",
      "4  2013-01-01  17:48:29     MPT  1ec336348f44207d2e0027dc3a68c118      NO   \n",
      "\n",
      "  Origin Destination  RoundTrip  NbSegments Seg1Departure  ... Seg6Arrival  \\\n",
      "0    TXL         AUH        1.0         2.0           TXL  ...         NaN   \n",
      "1    ATH         MIL        0.0         1.0           ATH  ...         NaN   \n",
      "2    ICT         SFO        1.0         2.0           ICT  ...         NaN   \n",
      "3    RNB         ARN        0.0         1.0           RNB  ...         NaN   \n",
      "4    OSL         MAD        1.0         2.0           OSL  ...         NaN   \n",
      "\n",
      "  Seg6Date Seg6Carrier Seg6BookingCode    From IsPublishedForNeg  \\\n",
      "0      NaN         NaN             NaN  1ASIWS                 0   \n",
      "1      NaN         NaN             NaN  1ASIWS                 0   \n",
      "2      NaN         NaN             NaN  1ASIWS                 0   \n",
      "3      NaN         NaN             NaN    1ASI                 0   \n",
      "4      NaN         NaN             NaN  1ASIWS                 0   \n",
      "\n",
      "  IsFromInternet IsFromVista                        TerminalID InternetOffice  \n",
      "0              0           0  d41d8cd98f00b204e9800998ecf8427e            FRA  \n",
      "1              0           0  d41d8cd98f00b204e9800998ecf8427e            KIV  \n",
      "2              0           0  d41d8cd98f00b204e9800998ecf8427e            NYC  \n",
      "3              0           0  d41d8cd98f00b204e9800998ecf8427e            STO  \n",
      "4              0           0  d41d8cd98f00b204e9800998ecf8427e            OSL  \n",
      "\n",
      "[5 rows x 45 columns]\n"
     ]
    }
   ],
   "source": [
    "print(searches.head(5))"
   ]
  },
  {
   "cell_type": "code",
   "execution_count": 7,
   "metadata": {},
   "outputs": [
    {
     "data": {
      "text/plain": [
       "(20390198, 45)"
      ]
     },
     "execution_count": 7,
     "metadata": {},
     "output_type": "execute_result"
    }
   ],
   "source": [
    "searches.shape"
   ]
  },
  {
   "cell_type": "markdown",
   "metadata": {},
   "source": [
    "#### Monthly number of flights arrivals to Malaga, Barcelona and Madrid"
   ]
  },
  {
   "cell_type": "code",
   "execution_count": 8,
   "metadata": {},
   "outputs": [],
   "source": [
    "searches['month'] = searches['Date'].astype(str).str[5:7]"
   ]
  },
  {
   "cell_type": "code",
   "execution_count": 9,
   "metadata": {},
   "outputs": [],
   "source": [
    "dest = ['AGP','BCN','MAD']"
   ]
  },
  {
   "cell_type": "code",
   "execution_count": 10,
   "metadata": {},
   "outputs": [],
   "source": [
    "searches_dates = searches[searches['Destination'].isin(dest)].groupby(['Destination','month'])['Time'].agg('count')"
   ]
  },
  {
   "cell_type": "code",
   "execution_count": 14,
   "metadata": {
    "collapsed": true
   },
   "outputs": [
    {
     "data": {
      "text/plain": [
       "Destination  month\n",
       "AGP          01        9633\n",
       "             02        8379\n",
       "             03       10659\n",
       "             04        8265\n",
       "             05       10830\n",
       "             06        7923\n",
       "             07        8892\n",
       "             08        7866\n",
       "             09        8151\n",
       "             10        6499\n",
       "             11        6384\n",
       "             12        3696\n",
       "BCN          01       29469\n",
       "             02       28329\n",
       "             03       30552\n",
       "             04       31236\n",
       "             05       28728\n",
       "             06       26505\n",
       "             07       29241\n",
       "             08       27075\n",
       "             09       23427\n",
       "             10       20276\n",
       "             11       19824\n",
       "             12       15400\n",
       "MAD          01       24258\n",
       "             02       22800\n",
       "             03       24681\n",
       "             04       25251\n",
       "             05       26334\n",
       "             06       22800\n",
       "             07       22971\n",
       "             08       21831\n",
       "             09       21147\n",
       "             10       22294\n",
       "             11       20272\n",
       "             12       14504\n",
       "Name: Time, dtype: int64"
      ]
     },
     "execution_count": 14,
     "metadata": {},
     "output_type": "execute_result"
    }
   ],
   "source": [
    "searches_dates"
   ]
  },
  {
   "cell_type": "code",
   "execution_count": 15,
   "metadata": {},
   "outputs": [],
   "source": [
    "df_searches_dates = pd.DataFrame(searches_dates)"
   ]
  },
  {
   "cell_type": "code",
   "execution_count": 18,
   "metadata": {},
   "outputs": [
    {
     "data": {
      "text/plain": [
       "676382"
      ]
     },
     "execution_count": 18,
     "metadata": {},
     "output_type": "execute_result"
    }
   ],
   "source": [
    "df_searches_dates['Time'].sum()"
   ]
  },
  {
   "cell_type": "code",
   "execution_count": 19,
   "metadata": {},
   "outputs": [
    {
     "data": {
      "text/plain": [
       "(36, 1)"
      ]
     },
     "execution_count": 19,
     "metadata": {},
     "output_type": "execute_result"
    }
   ],
   "source": [
    "df_searches_dates.shape"
   ]
  },
  {
   "cell_type": "code",
   "execution_count": 28,
   "metadata": {},
   "outputs": [
    {
     "data": {
      "text/plain": [
       "<matplotlib.axes._subplots.AxesSubplot at 0x7fec15265f50>"
      ]
     },
     "execution_count": 28,
     "metadata": {},
     "output_type": "execute_result"
    },
    {
     "data": {
      "image/png": "[encoded data removed]",
      "text/plain": [
       "<Figure size 432x288 with 1 Axes>"
      ]
     },
     "metadata": {
      "needs_background": "light"
     },
     "output_type": "display_data"
    }
   ],
   "source": [
    "df_searches_dates.unstack(level=-2).plot()"
   ]
  }
 ],
 "metadata": {
  "kernelspec": {
   "display_name": "Python 3",
   "language": "python",
   "name": "python3"
  },
  "language_info": {
   "codemirror_mode": {
    "name": "ipython",
    "version": 3
   },
   "file_extension": ".py",
   "mimetype": "text/x-python",
   "name": "python",
   "nbconvert_exporter": "python",
   "pygments_lexer": "ipython3",
   "version": "3.7.4"
  }
 },
 "nbformat": 4,
 "nbformat_minor": 2
}
